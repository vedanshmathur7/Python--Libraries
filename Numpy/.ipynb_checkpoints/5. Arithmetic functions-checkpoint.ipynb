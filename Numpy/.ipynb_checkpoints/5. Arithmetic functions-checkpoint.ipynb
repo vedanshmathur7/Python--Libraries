{
 "cells": [
  {
   "cell_type": "markdown",
   "id": "a2ed6419-b9c7-4229-93c4-ad8169036158",
   "metadata": {},
   "source": [
    "## np.min(x)\n",
    "## np.max(x) \n",
    "## np.argmin(x) \n",
    "## np.sqrt(x) \n",
    "## np.sin(x) \n",
    "## np.cos(x) \n",
    "## np.cumsum(x)"
   ]
  },
  {
   "cell_type": "code",
   "execution_count": 1,
   "id": "08e2723b-563a-4244-a94b-f158fe67d634",
   "metadata": {},
   "outputs": [
    {
     "name": "stdout",
     "output_type": "stream",
     "text": [
      "min:  2\n",
      "position of min:  1\n",
      "min:  9\n",
      "position of max:  3\n"
     ]
    }
   ],
   "source": [
    "import numpy as np\n",
    "\n",
    "\n",
    "var1 = np.array([4, 2, 7, 9])\n",
    "print (\"min: \",np.min(var1))\n",
    "print (\"position of min: \",np.argmin(var1))\n",
    "print (\"min: \",np.max(var1))\n",
    "print (\"position of max: \",np.argmax(var1))"
   ]
  },
  {
   "cell_type": "code",
   "execution_count": 2,
   "id": "45d30400-531f-41f4-be93-694542698e73",
   "metadata": {},
   "outputs": [
    {
     "name": "stdout",
     "output_type": "stream",
     "text": [
      "[5 6 9]\n",
      "[8 9]\n",
      "[3 6 8]\n",
      "[5 3]\n",
      "[[2.23606798 2.44948974 2.82842712]\n",
      " [1.73205081 2.44948974 3.        ]]\n",
      "[[-0.95892427 -0.2794155   0.98935825]\n",
      " [ 0.14112001 -0.2794155   0.41211849]]\n",
      "[[ 0.28366219  0.96017029 -0.14550003]\n",
      " [-0.9899925   0.96017029 -0.91113026]]\n"
     ]
    }
   ],
   "source": [
    "var2 = np.array([[5, 6, 8], [3, 6, 9]])\n",
    "\n",
    "print (np.max(var2 , axis= 0)) #axis = 0 means column\n",
    "print (np.max(var2 , axis= 1)) #axis = 1 means column\n",
    "print (np.min(var2 , axis= 0))\n",
    "print (np.min(var2 , axis= 1))\n",
    "\n",
    "print (np.sqrt(var2)) #sqrt to find the sq root\n",
    "print (np.sin(var2)) #sin to find the sin value of the values\n",
    "print (np.cos(var2)) #cos to find the sin value of the values\n",
    " "
   ]
  },
  {
   "cell_type": "code",
   "execution_count": 3,
   "id": "f267e17c-736c-4438-9445-d2559b75c515",
   "metadata": {},
   "outputs": [
    {
     "name": "stdout",
     "output_type": "stream",
     "text": [
      "[ 1  4  9 15 24]\n"
     ]
    }
   ],
   "source": [
    "var3 = np.array([1, 3, 5, 6, 9])\n",
    "\n",
    "print (np.cumsum(var3)) "
   ]
  },
  {
   "cell_type": "code",
   "execution_count": null,
   "id": "2390e53f-5e0b-427e-93a5-4ff0bc1635a9",
   "metadata": {},
   "outputs": [],
   "source": []
  }
 ],
 "metadata": {
  "kernelspec": {
   "display_name": "Python 3 (ipykernel)",
   "language": "python",
   "name": "python3"
  },
  "language_info": {
   "codemirror_mode": {
    "name": "ipython",
    "version": 3
   },
   "file_extension": ".py",
   "mimetype": "text/x-python",
   "name": "python",
   "nbconvert_exporter": "python",
   "pygments_lexer": "ipython3",
   "version": "3.13.0"
  }
 },
 "nbformat": 4,
 "nbformat_minor": 5
}
