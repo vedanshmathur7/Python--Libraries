{
 "cells": [
  {
   "cell_type": "markdown",
   "id": "44088b17-9957-4a67-b382-1ef5c0831c66",
   "metadata": {},
   "source": [
    "# Shape"
   ]
  },
  {
   "cell_type": "code",
   "execution_count": 3,
   "id": "984ae355-9396-4ebb-9eed-0139d8bc6324",
   "metadata": {},
   "outputs": [
    {
     "name": "stdout",
     "output_type": "stream",
     "text": [
      "2\n",
      "\n",
      "(2, 3)\n"
     ]
    }
   ],
   "source": [
    "import numpy as np\n",
    "\n",
    "var = np.array([[4, 6, 7], [5, 6, 5]])\n",
    "\n",
    "print (var.ndim)\n",
    "print ()\n",
    "print (var.shape)"
   ]
  },
  {
   "cell_type": "code",
   "execution_count": 7,
   "id": "0a0e5c25-f968-4454-811f-9f79c3ec4070",
   "metadata": {},
   "outputs": [
    {
     "name": "stdout",
     "output_type": "stream",
     "text": [
      "4\n",
      "[[[[5 6 7]]]]\n",
      "(1, 1, 1, 3)\n"
     ]
    }
   ],
   "source": [
    "var2 = np.array([5, 6, 7], ndmin= 4)\n",
    "\n",
    "print (var2.ndim)\n",
    "print (var2)\n",
    "print (var2.shape)"
   ]
  },
  {
   "cell_type": "markdown",
   "id": "ac0ce45b-5ce7-4e78-a461-402e6876525c",
   "metadata": {},
   "source": [
    "# Reshape"
   ]
  },
  {
   "cell_type": "code",
   "execution_count": 18,
   "id": "1117860e-6e55-4081-82f6-e0defd6dc867",
   "metadata": {},
   "outputs": [
    {
     "name": "stdout",
     "output_type": "stream",
     "text": [
      "1\n",
      "3\n",
      "2\n",
      "\n",
      "[[[ 4]\n",
      "  [ 5]\n",
      "  [ 6]]\n",
      "\n",
      " [[ 7]\n",
      "  [ 7]\n",
      "  [67]]\n",
      "\n",
      " [[87]\n",
      "  [ 8]\n",
      "  [90]]]\n",
      "[[ 4  5  6]\n",
      " [ 7  7 67]\n",
      " [87  8 90]]\n"
     ]
    }
   ],
   "source": [
    "var3 = np.array([4, 5, 6, 7, 7, 67, 87, 8, 90])\n",
    "print (var3.ndim)\n",
    "\n",
    "x1 = var3.reshape(3,3,1) #3*3*1 = 9 i.e. total no. of elements in the array\n",
    "x2 = var3.reshape(3,3) #3*3 = 9\n",
    "print (x1.ndim)\n",
    "print (x2.ndim)\n",
    "print ()\n",
    "print (x1)\n",
    "print (x2)"
   ]
  },
  {
   "cell_type": "code",
   "execution_count": 21,
   "id": "d080f343-05d1-4822-a956-c66ff354e8e0",
   "metadata": {},
   "outputs": [
    {
     "name": "stdout",
     "output_type": "stream",
     "text": [
      "[[ 4  5  6]\n",
      " [ 7  7 67]\n",
      " [87  8 90]]\n",
      "2\n",
      "\n",
      "[ 4  5  6  7  7 67 87  8 90]\n",
      "1\n"
     ]
    }
   ],
   "source": [
    "one = x2.reshape(-1)\n",
    "print (x2)\n",
    "print (x2.ndim)\n",
    "print ()\n",
    "print (one)\n",
    "\n",
    "print (one.ndim)"
   ]
  },
  {
   "cell_type": "code",
   "execution_count": null,
   "id": "d3f49a6a-a765-42f6-a234-5ff1e0c4117e",
   "metadata": {},
   "outputs": [],
   "source": []
  }
 ],
 "metadata": {
  "kernelspec": {
   "display_name": "Python 3 (ipykernel)",
   "language": "python",
   "name": "python3"
  },
  "language_info": {
   "codemirror_mode": {
    "name": "ipython",
    "version": 3
   },
   "file_extension": ".py",
   "mimetype": "text/x-python",
   "name": "python",
   "nbconvert_exporter": "python",
   "pygments_lexer": "ipython3",
   "version": "3.13.0"
  }
 },
 "nbformat": 4,
 "nbformat_minor": 5
}
