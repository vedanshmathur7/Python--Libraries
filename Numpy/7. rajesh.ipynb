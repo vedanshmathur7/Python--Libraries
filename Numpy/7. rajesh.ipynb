{
 "cells": [
  {
   "metadata": {},
   "cell_type": "markdown",
   "source": "# print (\"rajesh\")",
   "id": "b2a0b84ee4eba348"
  },
  {
   "metadata": {
    "ExecuteTime": {
     "end_time": "2025-04-23T18:28:46.368497Z",
     "start_time": "2025-04-23T18:28:46.364008Z"
    }
   },
   "cell_type": "code",
   "source": "print (\"rajesh\")",
   "id": "b9e7f9cdfd64231a",
   "outputs": [
    {
     "name": "stdout",
     "output_type": "stream",
     "text": [
      "rajesh\n"
     ]
    }
   ],
   "execution_count": 3
  },
  {
   "metadata": {},
   "cell_type": "code",
   "outputs": [],
   "execution_count": null,
   "source": "",
   "id": "fba7500978f83d89"
  }
 ],
 "metadata": {
  "kernelspec": {
   "name": "python3",
   "language": "python",
   "display_name": "Python 3 (ipykernel)"
  }
 },
 "nbformat": 5,
 "nbformat_minor": 9
}
