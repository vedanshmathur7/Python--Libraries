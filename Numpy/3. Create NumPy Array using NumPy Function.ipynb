{
 "cells": [
  {
   "cell_type": "markdown",
   "id": "db152693-8157-4742-870a-9bd390ab55ec",
   "metadata": {},
   "source": [
    "# Zeroes"
   ]
  },
  {
   "cell_type": "code",
   "execution_count": 1,
   "id": "7af20849-afa0-4d49-b70d-cdb4fae17f48",
   "metadata": {},
   "outputs": [],
   "source": [
    "import numpy as np"
   ]
  },
  {
   "cell_type": "code",
   "execution_count": 2,
   "id": "c42b0216-86f7-4455-8816-1595fe64d542",
   "metadata": {},
   "outputs": [
    {
     "name": "stdout",
     "output_type": "stream",
     "text": [
      "[0. 0. 0. 0.]\n",
      "\n",
      "[[0. 0. 0. 0. 0. 0. 0. 0.]\n",
      " [0. 0. 0. 0. 0. 0. 0. 0.]\n",
      " [0. 0. 0. 0. 0. 0. 0. 0.]]\n"
     ]
    }
   ],
   "source": [
    "ar_zeroes = np.zeros(4)\n",
    "ar_zeroes1 = np.zeros((3,8)) #prints 3 X 4 matrix\n",
    "\n",
    "print (ar_zeroes)\n",
    "print ()\n",
    "print (ar_zeroes1)"
   ]
  },
  {
   "cell_type": "markdown",
   "id": "675bcdc5-86f3-4996-8098-da5cdc64464e",
   "metadata": {},
   "source": [
    "# Ones "
   ]
  },
  {
   "cell_type": "code",
   "execution_count": 3,
   "id": "0b406ce3-cef7-4e69-a6af-7c17f56a8cf3",
   "metadata": {},
   "outputs": [
    {
     "name": "stdout",
     "output_type": "stream",
     "text": [
      "[1. 1. 1. 1. 1. 1. 1.]\n"
     ]
    }
   ],
   "source": [
    "ar_one = np.ones(7)\n",
    "print (ar_one)"
   ]
  },
  {
   "cell_type": "code",
   "execution_count": 12,
   "id": "24eadf42-654a-41e5-b65c-e5c73d3ba730",
   "metadata": {},
   "outputs": [
    {
     "name": "stdout",
     "output_type": "stream",
     "text": [
      "[[1. 1. 1. 1. 1. 1. 1. 1.]\n",
      " [1. 1. 1. 1. 1. 1. 1. 1.]\n",
      " [1. 1. 1. 1. 1. 1. 1. 1.]]\n"
     ]
    }
   ],
   "source": [
    "ar_one1 = np.ones((3,8))\n",
    "print (ar_one1)"
   ]
  },
  {
   "cell_type": "markdown",
   "id": "e661070c-ffb1-4cb2-8457-233c219ca6d4",
   "metadata": {},
   "source": [
    "# Empty"
   ]
  },
  {
   "cell_type": "code",
   "execution_count": 13,
   "id": "2d9d8b5d-2493-48bf-9337-9f89e432c046",
   "metadata": {},
   "outputs": [
    {
     "name": "stdout",
     "output_type": "stream",
     "text": [
      "[[1. 1. 1. 1. 1. 1. 1. 1.]\n",
      " [1. 1. 1. 1. 1. 1. 1. 1.]\n",
      " [1. 1. 1. 1. 1. 1. 1. 1.]]\n"
     ]
    }
   ],
   "source": [
    "ar_empty = np.empty((3,8))\n",
    "\n",
    "print (ar_empty)"
   ]
  },
  {
   "cell_type": "markdown",
   "id": "abcdf783-fba3-4c52-924c-67f206455612",
   "metadata": {},
   "source": [
    "#Prints the last array created"
   ]
  },
  {
   "cell_type": "markdown",
   "id": "eef13b0b-4248-4293-9e2c-6c24b7ea44ad",
   "metadata": {},
   "source": [
    "# Range"
   ]
  },
  {
   "cell_type": "code",
   "execution_count": 14,
   "id": "f55815c3-4c9a-4ee9-9959-e996ea96dd63",
   "metadata": {},
   "outputs": [
    {
     "name": "stdout",
     "output_type": "stream",
     "text": [
      "[1 2 3 4 5 6 7 8]\n",
      "[0 1 2 3 4 5 6 7 8]\n"
     ]
    }
   ],
   "source": [
    "ar_range = np.arange(1,9)\n",
    "ar_range1 = np.arange(9)\n",
    "\n",
    "print (ar_range)\n",
    "print (ar_range1)"
   ]
  },
  {
   "cell_type": "markdown",
   "id": "dd1d3c29-7448-4833-a426-f370b25c2f7e",
   "metadata": {},
   "source": [
    "# Diagonal filled with 1"
   ]
  },
  {
   "cell_type": "code",
   "execution_count": 7,
   "id": "27e8c820-1a12-433f-ae4b-77cf8eb6064f",
   "metadata": {},
   "outputs": [
    {
     "name": "stdout",
     "output_type": "stream",
     "text": [
      "[[1. 0. 0. 0. 0. 0. 0. 0.]\n",
      " [0. 1. 0. 0. 0. 0. 0. 0.]\n",
      " [0. 0. 1. 0. 0. 0. 0. 0.]\n",
      " [0. 0. 0. 1. 0. 0. 0. 0.]\n",
      " [0. 0. 0. 0. 1. 0. 0. 0.]\n",
      " [0. 0. 0. 0. 0. 1. 0. 0.]\n",
      " [0. 0. 0. 0. 0. 0. 1. 0.]\n",
      " [0. 0. 0. 0. 0. 0. 0. 1.]]\n",
      "\n",
      "[[1. 0. 0. 0. 0. 0. 0. 0.]\n",
      " [0. 1. 0. 0. 0. 0. 0. 0.]\n",
      " [0. 0. 1. 0. 0. 0. 0. 0.]]\n"
     ]
    }
   ],
   "source": [
    "ar_dia = np.eye(8) #prints the square matrix of the given attribute\n",
    "ar_dia1 = np.eye(3,8) #prints the matrix of 3 rows and 8 columns\n",
    "\n",
    "print (ar_dia)\n",
    "print ()\n",
    "print (ar_dia1)"
   ]
  },
  {
   "cell_type": "markdown",
   "id": "62f9c61a-10cf-4a9e-9b50-8163185281d3",
   "metadata": {},
   "source": [
    "# Linspace"
   ]
  },
  {
   "cell_type": "code",
   "execution_count": 15,
   "id": "014fead3-2692-4121-8f35-a7624eb6a498",
   "metadata": {},
   "outputs": [
    {
     "name": "stdout",
     "output_type": "stream",
     "text": [
      "[ 1. 13. 25. 37. 49.]\n",
      "[  0.          11.11111111  22.22222222  33.33333333  44.44444444\n",
      "  55.55555556  66.66666667  77.77777778  88.88888889 100.        ]\n"
     ]
    }
   ],
   "source": [
    "ar_lin = np.linspace(1,49,5) #starts from 1, till 49, with the gap of 5\n",
    "ar_lin1 = np.linspace(0,100,10)\n",
    "\n",
    "print (ar_lin)\n",
    "print (ar_lin1)"
   ]
  },
  {
   "cell_type": "code",
   "execution_count": null,
   "id": "77d1ceed-816a-41c9-9bb3-9959884fa5df",
   "metadata": {},
   "outputs": [],
   "source": []
  }
 ],
 "metadata": {
  "kernelspec": {
   "display_name": "Python 3 (ipykernel)",
   "language": "python",
   "name": "python3"
  },
  "language_info": {
   "codemirror_mode": {
    "name": "ipython",
    "version": 3
   },
   "file_extension": ".py",
   "mimetype": "text/x-python",
   "name": "python",
   "nbconvert_exporter": "python",
   "pygments_lexer": "ipython3",
   "version": "3.13.0"
  }
 },
 "nbformat": 4,
 "nbformat_minor": 5
}
