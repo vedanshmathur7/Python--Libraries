{
 "cells": [
  {
   "cell_type": "markdown",
   "id": "e91a4abd-1f80-4fe4-a41a-827bf165a0e6",
   "metadata": {},
   "source": [
    "# Random "
   ]
  },
  {
   "cell_type": "markdown",
   "id": "4bdb69a2-6c3c-4fe9-b82d-2a742f1cb6aa",
   "metadata": {},
   "source": [
    "## rand()"
   ]
  },
  {
   "cell_type": "code",
   "execution_count": 5,
   "id": "095f0b7e-9a82-4218-9121-3c4e4a6fa1a2",
   "metadata": {},
   "outputs": [
    {
     "name": "stdout",
     "output_type": "stream",
     "text": [
      "[0.0063385  0.9275661  0.39246737 0.24926171 0.59245571 0.66931768\n",
      " 0.14922864 0.00352161 0.3530397 ]\n",
      "\n",
      "[[0.28168868 0.26647881 0.72898003 0.61213136]\n",
      " [0.46669717 0.09265191 0.08771457 0.38195509]\n",
      " [0.52058402 0.52952883 0.12305972 0.57207376]]\n"
     ]
    }
   ],
   "source": [
    "import numpy as np\n",
    "\n",
    "var = np.random.rand(9) #random no.s between 0 and 1\n",
    "var1 = np.random.rand(3,4) #random no.s between 0 and 1\n",
    "\n",
    "print (var)\n",
    "print ()\n",
    "print (var1)"
   ]
  },
  {
   "cell_type": "markdown",
   "id": "e48c02db-ff23-4880-bc30-8d78c51b5591",
   "metadata": {},
   "source": [
    "## randn()\n",
    "prints the no.s close to 0 (negative values allowed too)"
   ]
  },
  {
   "cell_type": "code",
   "execution_count": 6,
   "id": "e0e63ca7-f451-4e3c-8a50-5e743b6190f9",
   "metadata": {},
   "outputs": [
    {
     "name": "stdout",
     "output_type": "stream",
     "text": [
      "[ 0.22823836  0.29797727 -0.95912992  1.91514492  0.02005341]\n",
      "\n",
      "[[-1.50498429  0.20123467  1.35863683  2.32822337]\n",
      " [-1.46473274  1.2692415  -2.21316919 -0.11184027]\n",
      " [-0.53803226 -0.20346367  1.93388947  1.09077454]]\n"
     ]
    }
   ],
   "source": [
    "var2 = np.random.randn(5)\n",
    "var3 = np.random.randn(3,4)\n",
    "\n",
    "print (var2)\n",
    "print ()\n",
    "print (var3)"
   ]
  },
  {
   "cell_type": "markdown",
   "id": "06b47358-60bb-4af6-a550-e6813172710c",
   "metadata": {},
   "source": [
    "## ranf()"
   ]
  },
  {
   "cell_type": "code",
   "execution_count": 7,
   "id": "6b023aad-8311-43e6-ad0b-fad3f35eab10",
   "metadata": {},
   "outputs": [
    {
     "name": "stdout",
     "output_type": "stream",
     "text": [
      "[0.47928661 0.71288906 0.41505346 0.37248109 0.59181637]\n"
     ]
    }
   ],
   "source": [
    "var4 = np.random.ranf(5)\n",
    "\n",
    "print (var4)"
   ]
  },
  {
   "cell_type": "markdown",
   "id": "dad60e56-1208-4886-b5be-cfb7b8a3affd",
   "metadata": {},
   "source": [
    "## randint()"
   ]
  },
  {
   "cell_type": "code",
   "execution_count": 12,
   "id": "e5e25531-c5ec-4746-acb8-bc65a1dbb3b6",
   "metadata": {},
   "outputs": [
    {
     "name": "stdout",
     "output_type": "stream",
     "text": [
      "[93 72 99 15 52 63]\n"
     ]
    }
   ],
   "source": [
    "var5 = np.random.randint(10, 100, 6) #from 10 till 100, choose 6 no.s\n",
    "\n",
    "print (var5)"
   ]
  }
 ],
 "metadata": {
  "kernelspec": {
   "display_name": "Python 3 (ipykernel)",
   "language": "python",
   "name": "python3"
  },
  "language_info": {
   "codemirror_mode": {
    "name": "ipython",
    "version": 3
   },
   "file_extension": ".py",
   "mimetype": "text/x-python",
   "name": "python",
   "nbconvert_exporter": "python",
   "pygments_lexer": "ipython3",
   "version": "3.13.0"
  }
 },
 "nbformat": 4,
 "nbformat_minor": 5
}
