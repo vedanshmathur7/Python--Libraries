{
 "cells": [
  {
   "cell_type": "markdown",
   "id": "e91a4abd-1f80-4fe4-a41a-827bf165a0e6",
   "metadata": {},
   "source": [
    "# Random "
   ]
  },
  {
   "cell_type": "markdown",
   "id": "4bdb69a2-6c3c-4fe9-b82d-2a742f1cb6aa",
   "metadata": {},
   "source": [
    "## rand()"
   ]
  },
  {
   "cell_type": "code",
   "execution_count": 1,
   "id": "095f0b7e-9a82-4218-9121-3c4e4a6fa1a2",
   "metadata": {},
   "outputs": [
    {
     "name": "stdout",
     "output_type": "stream",
     "text": [
      "[0.1503163  0.63551732 0.97889463 0.53276123 0.37781146 0.79518844\n",
      " 0.45396262 0.88344127 0.78873674]\n",
      "\n",
      "[[9.24204979e-01 6.71583117e-01 7.34978819e-02 2.54762906e-01]\n",
      " [1.67891751e-01 6.58367554e-01 3.10236075e-01 3.41552069e-01]\n",
      " [7.49830058e-01 5.90638988e-04 7.95416731e-01 8.39642720e-01]]\n"
     ]
    }
   ],
   "source": [
    "import numpy as np\n",
    "\n",
    "var = np.random.rand(9) #random no.s between 0 and 1\n",
    "var1 = np.random.rand(3,4) #random no.s between 0 and 1\n",
    "\n",
    "print (var)\n",
    "print ()\n",
    "print (var1)"
   ]
  },
  {
   "cell_type": "markdown",
   "id": "e48c02db-ff23-4880-bc30-8d78c51b5591",
   "metadata": {},
   "source": [
    "## randn()\n",
    "prints the no.s close to 0 (negative values allowed too)"
   ]
  },
  {
   "cell_type": "code",
   "execution_count": 2,
   "id": "e0e63ca7-f451-4e3c-8a50-5e743b6190f9",
   "metadata": {},
   "outputs": [
    {
     "name": "stdout",
     "output_type": "stream",
     "text": [
      "[ 0.63592516 -0.45294162 -0.66715538  0.47827739  0.58925594]\n",
      "\n",
      "[[ 1.67415666  0.46417566  0.745895    0.09685514]\n",
      " [-1.52257627  0.95172689  0.58380417 -0.11136257]\n",
      " [-0.10813654  0.70847448  0.02886276  1.15141944]]\n"
     ]
    }
   ],
   "source": [
    "var2 = np.random.randn(5)\n",
    "var3 = np.random.randn(3,4)\n",
    "\n",
    "print (var2)\n",
    "print ()\n",
    "print (var3)"
   ]
  },
  {
   "cell_type": "markdown",
   "id": "06b47358-60bb-4af6-a550-e6813172710c",
   "metadata": {},
   "source": [
    "## ranf()"
   ]
  },
  {
   "cell_type": "code",
   "execution_count": 3,
   "id": "6b023aad-8311-43e6-ad0b-fad3f35eab10",
   "metadata": {},
   "outputs": [
    {
     "name": "stdout",
     "output_type": "stream",
     "text": [
      "[0.46681118 0.0699832  0.38611315 0.48918856 0.27037405]\n"
     ]
    }
   ],
   "source": [
    "var4 = np.random.ranf(5)\n",
    "\n",
    "print (var4)"
   ]
  },
  {
   "cell_type": "markdown",
   "id": "dad60e56-1208-4886-b5be-cfb7b8a3affd",
   "metadata": {},
   "source": [
    "## randint()"
   ]
  },
  {
   "cell_type": "code",
   "execution_count": 11,
   "id": "e5e25531-c5ec-4746-acb8-bc65a1dbb3b6",
   "metadata": {},
   "outputs": [
    {
     "name": "stdout",
     "output_type": "stream",
     "text": [
      "[ 9 43 62 67 21 86 92 60  9 30 12  7 61 98 22 19 67 74 48 44 52 15  4 84\n",
      " 88 55 25 28 79  9 55 67 22 39 99 84 69 56 43 90 98 51 97 80 47 80 68 84\n",
      "  6 75]\n"
     ]
    }
   ],
   "source": [
    "var5 = np.random.randint(1, 100, 50) #from 10 till 100, choose 6 no.s\n",
    "\n",
    "print (var5)"
   ]
  },
  {
   "cell_type": "code",
   "execution_count": null,
   "id": "421c4c57-c12d-4784-a21b-4c959127f6fc",
   "metadata": {},
   "outputs": [],
   "source": []
  }
 ],
 "metadata": {
  "kernelspec": {
   "display_name": "Python 3 (ipykernel)",
   "language": "python",
   "name": "python3"
  },
  "language_info": {
   "codemirror_mode": {
    "name": "ipython",
    "version": 3
   },
   "file_extension": ".py",
   "mimetype": "text/x-python",
   "name": "python",
   "nbconvert_exporter": "python",
   "pygments_lexer": "ipython3",
   "version": "3.13.0"
  }
 },
 "nbformat": 4,
 "nbformat_minor": 5
}
