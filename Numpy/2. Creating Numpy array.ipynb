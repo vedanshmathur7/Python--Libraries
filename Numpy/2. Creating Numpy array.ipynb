{
 "cells": [
  {
   "cell_type": "markdown",
   "id": "928bc681-7258-4477-a59f-cc5beb575ec7",
   "metadata": {},
   "source": [
    "# Arrays "
   ]
  },
  {
   "cell_type": "code",
   "execution_count": 1,
   "id": "6a2aac13-a63b-40f8-a241-ace4cde5b38f",
   "metadata": {},
   "outputs": [],
   "source": [
    "import numpy as np"
   ]
  },
  {
   "cell_type": "code",
   "execution_count": 2,
   "id": "5a3ff23c-3d20-46d3-b89a-0820dcccbd34",
   "metadata": {},
   "outputs": [],
   "source": [
    "a = np.array([1,45,78,90,100])"
   ]
  },
  {
   "cell_type": "code",
   "execution_count": 3,
   "id": "6975be44-782e-49de-825d-f672a44b2533",
   "metadata": {},
   "outputs": [
    {
     "name": "stdout",
     "output_type": "stream",
     "text": [
      "[  1  45  78  90 100]\n"
     ]
    }
   ],
   "source": [
    "print (a)"
   ]
  },
  {
   "cell_type": "code",
   "execution_count": 4,
   "id": "d3e396c8-8988-4646-9ac1-c1efa8535d4e",
   "metadata": {},
   "outputs": [
    {
     "name": "stdout",
     "output_type": "stream",
     "text": [
      "[45 56 15 58]\n",
      "<class 'numpy.ndarray'>\n",
      "1\n"
     ]
    }
   ],
   "source": [
    "x = [45,56,15,58]\n",
    "y = np.array(x)\n",
    "print (y)\n",
    "y #prints the type ;array\n",
    "print (type(y))\n",
    "print (y.ndim) #to find the dimension of the array given "
   ]
  },
  {
   "cell_type": "code",
   "execution_count": 5,
   "id": "319d6307-e851-46c3-ace1-8c4553e27e95",
   "metadata": {},
   "outputs": [
    {
     "name": "stdin",
     "output_type": "stream",
     "text": [
      "Enter the no. :  89\n",
      "Enter the no. :  56\n",
      "Enter the no. :  36\n",
      "Enter the no. :  25\n"
     ]
    },
    {
     "name": "stdout",
     "output_type": "stream",
     "text": [
      "[89, 56, 36, 25]\n",
      "[89 56 36 25]\n",
      "<class 'list'>\n"
     ]
    }
   ],
   "source": [
    "l = [] #creating an empty list \n",
    "\n",
    "for i in range (1,5):\n",
    "    int_1 = int(input(\"Enter the no. : \"))\n",
    "    l.append(int_1)\n",
    "\n",
    "print (l)\n",
    "print (np.array(l))\n",
    "print (type(l))"
   ]
  },
  {
   "cell_type": "markdown",
   "id": "3ff3ffeb-64a1-4c5f-bc7c-7e9d3babc371",
   "metadata": {},
   "source": [
    "### 1 - D array -> [45,67]\n",
    "### 2 - D array -> [[45,67], [89,90]]\n",
    "### 3 - D array -> [[[67,78], [78,90], [98,90],]] \n",
    "### Higher dimension array \n",
    "\n",
    "## *Remember that the no. of elements in each block should be same."
   ]
  },
  {
   "cell_type": "code",
   "execution_count": null,
   "id": "c4db7b83-d792-46f3-9cfa-7de4abce7ee1",
   "metadata": {},
   "outputs": [],
   "source": []
  },
  {
   "cell_type": "markdown",
   "id": "0ef4c5f3-e969-48fd-985e-1d291d664444",
   "metadata": {},
   "source": [
    "# 2 - D"
   ]
  },
  {
   "cell_type": "code",
   "execution_count": 11,
   "id": "c3f5dd57-4645-4117-ae8a-18111a80b711",
   "metadata": {},
   "outputs": [
    {
     "name": "stdout",
     "output_type": "stream",
     "text": [
      "[[67 89 75 98]\n",
      " [87 98 78 65]]\n",
      "2\n"
     ]
    }
   ],
   "source": [
    "ar2 = np.array([[67,89,75,98], [87,98,78,65]]) #in 2-D, only two 1-D arrays are allowed \n",
    "print (ar2)\n",
    "print (ar2.ndim)"
   ]
  },
  {
   "cell_type": "markdown",
   "id": "a964cb44-067f-4bdc-9517-b16b065c6663",
   "metadata": {},
   "source": [
    "# 3 - D"
   ]
  },
  {
   "cell_type": "code",
   "execution_count": 12,
   "id": "39b06827-9c68-43dc-9133-1884feb87e0f",
   "metadata": {},
   "outputs": [
    {
     "name": "stdout",
     "output_type": "stream",
     "text": [
      "[[[56 89]\n",
      "  [90 89]\n",
      "  [87 87]]]\n",
      "<class 'numpy.ndarray'>\n",
      "3\n"
     ]
    }
   ],
   "source": [
    "ar3 = np.array([[[56,89], [90,89], [87,87]]])\n",
    "print (ar3)\n",
    "print (type (ar3))\n",
    "print (ar3.ndim)"
   ]
  },
  {
   "cell_type": "markdown",
   "id": "9ac630b9-345a-44a2-aac0-dcdf5fdb07f7",
   "metadata": {},
   "source": [
    "# Creating n - dimension array "
   ]
  },
  {
   "cell_type": "code",
   "execution_count": 15,
   "id": "28c55468-d5b2-44ca-b40b-40a2bee917ce",
   "metadata": {},
   "outputs": [
    {
     "name": "stdout",
     "output_type": "stream",
     "text": [
      "[[[[[[[[[[[[[[[[[[[[67 90 69 69]]]]]]]]]]]]]]]]]]]]\n",
      "20\n"
     ]
    }
   ],
   "source": [
    "arn = np.array ([67,90,69,69], ndmin=20) # \"ndmin\" to create our desired dimensioned array \n",
    "print (arn)\n",
    "print (arn.ndim)"
   ]
  },
  {
   "cell_type": "code",
   "execution_count": null,
   "id": "815d8085-b822-4a44-8219-9b0212f00c0a",
   "metadata": {},
   "outputs": [],
   "source": []
  }
 ],
 "metadata": {
  "kernelspec": {
   "display_name": "Python 3 (ipykernel)",
   "language": "python",
   "name": "python3"
  },
  "language_info": {
   "codemirror_mode": {
    "name": "ipython",
    "version": 3
   },
   "file_extension": ".py",
   "mimetype": "text/x-python",
   "name": "python",
   "nbconvert_exporter": "python",
   "pygments_lexer": "ipython3",
   "version": "3.13.0"
  }
 },
 "nbformat": 4,
 "nbformat_minor": 5
}
