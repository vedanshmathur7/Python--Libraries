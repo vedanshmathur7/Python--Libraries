{
 "cells": [
  {
   "attachments": {},
   "cell_type": "markdown",
   "id": "2657d682-a246-4422-8030-ce58d401d8b4",
   "metadata": {},
   "source": [
    "import numpy as np\n",
    "import pandas as pd\n",
    "\n",
    "Great! Based on the structure of your `netflix.csv` file, here are some **lab-style Pandas questions** that comprehensively cover important topics:\n",
    "\n",
    "---\n",
    "\n",
    "### ✅ **Pandas Questions on Netflix Dataset**\n",
    "\n",
    "#### 1. **Basic Exploration**\n",
    "\n",
    "* Q1. Load the dataset and show the first 5 rows.\n",
    "* Q2. Print the column names and their data types.\n",
    "* Q3. How many rows and columns are present in the dataset?\n",
    "* Q4. Show summary statistics for numeric columns.\n",
    "\n",
    "#### 2. **Data Selection & Filtering**\n",
    "\n",
    "* Q5. Display only the titles of all TV Shows.\n",
    "* Q6. Show all movies released in 2020.\n",
    "* Q7. List all records where the rating is `'TV-MA'`.\n",
    "\n",
    "#### 3. **Handling Missing Values**\n",
    "\n",
    "* Q8. Check for missing values in each column.\n",
    "* Q9. Fill all missing `director` names with `\"Not Available\"`.\n",
    "* Q10. Drop all rows where the `country` is missing.\n",
    "\n",
    "#### 4. **Sorting & Grouping**\n",
    "\n",
    "* Q11. Sort the dataset by `release_year` in descending order.\n",
    "* Q12. Group by `type` and count how many entries of each type exist.\n",
    "* Q13. Find the most common `rating` using value counts.\n",
    "\n",
    "#### 5. **Column Operations**\n",
    "\n",
    "* Q14. Create a new column called `content_category` where:\n",
    "\n",
    "  * If `type` is \"Movie\", it's \"Film\"\n",
    "  * If `type` is \"TV Show\", it's \"Series\"\n",
    "* Q15. Extract the year from `date_added` into a new column called `added_year`.\n",
    "\n",
    "#### 6. **Text Matching & String Operations**\n",
    "\n",
    "* Q16. Display all rows where `title` contains the word `\"Love\"`.\n",
    "* Q17. Count how many shows include `\"International\"` in `listed_in`.\n",
    "\n",
    "#### 7. **File Export**\n",
    "\n",
    "* Q18. Save the modified dataframe as `\"netflix_cleaned.csv\"` using `to_csv()`.\n",
    "\n",
    "---\n",
    "\n",
    "Would you like me to now answer these with actual **Python codes** using Pandas?\n"
   ]
  },
  {
   "cell_type": "markdown",
   "id": "3ae7ac89-97d8-413e-8041-a76c79ba18d5",
   "metadata": {},
   "source": [
    "## q1"
   ]
  },
  {
   "cell_type": "code",
   "execution_count": 105,
   "id": "ea01fc90-f648-408b-9e9c-c8870f925b0d",
   "metadata": {},
   "outputs": [
    {
     "data": {
      "text/html": [
       "<div>\n",
       "<style scoped>\n",
       "    .dataframe tbody tr th:only-of-type {\n",
       "        vertical-align: middle;\n",
       "    }\n",
       "\n",
       "    .dataframe tbody tr th {\n",
       "        vertical-align: top;\n",
       "    }\n",
       "\n",
       "    .dataframe thead th {\n",
       "        text-align: right;\n",
       "    }\n",
       "</style>\n",
       "<table border=\"1\" class=\"dataframe\">\n",
       "  <thead>\n",
       "    <tr style=\"text-align: right;\">\n",
       "      <th></th>\n",
       "      <th>show_id</th>\n",
       "      <th>type</th>\n",
       "      <th>title</th>\n",
       "      <th>director</th>\n",
       "      <th>cast</th>\n",
       "      <th>country</th>\n",
       "      <th>date_added</th>\n",
       "      <th>release_year</th>\n",
       "      <th>rating</th>\n",
       "      <th>duration</th>\n",
       "      <th>listed_in</th>\n",
       "      <th>description</th>\n",
       "    </tr>\n",
       "  </thead>\n",
       "  <tbody>\n",
       "    <tr>\n",
       "      <th>0</th>\n",
       "      <td>s1</td>\n",
       "      <td>Movie</td>\n",
       "      <td>Dick Johnson Is Dead</td>\n",
       "      <td>Kirsten Johnson</td>\n",
       "      <td>NaN</td>\n",
       "      <td>United States</td>\n",
       "      <td>September 25, 2021</td>\n",
       "      <td>2020</td>\n",
       "      <td>PG-13</td>\n",
       "      <td>90 min</td>\n",
       "      <td>Documentaries</td>\n",
       "      <td>As her father nears the end of his life, filmm...</td>\n",
       "    </tr>\n",
       "    <tr>\n",
       "      <th>1</th>\n",
       "      <td>s2</td>\n",
       "      <td>TV Show</td>\n",
       "      <td>Blood &amp; Water</td>\n",
       "      <td>NaN</td>\n",
       "      <td>Ama Qamata, Khosi Ngema, Gail Mabalane, Thaban...</td>\n",
       "      <td>South Africa</td>\n",
       "      <td>September 24, 2021</td>\n",
       "      <td>2021</td>\n",
       "      <td>TV-MA</td>\n",
       "      <td>2 Seasons</td>\n",
       "      <td>International TV Shows, TV Dramas, TV Mysteries</td>\n",
       "      <td>After crossing paths at a party, a Cape Town t...</td>\n",
       "    </tr>\n",
       "    <tr>\n",
       "      <th>2</th>\n",
       "      <td>s3</td>\n",
       "      <td>TV Show</td>\n",
       "      <td>Ganglands</td>\n",
       "      <td>Julien Leclercq</td>\n",
       "      <td>Sami Bouajila, Tracy Gotoas, Samuel Jouy, Nabi...</td>\n",
       "      <td>NaN</td>\n",
       "      <td>September 24, 2021</td>\n",
       "      <td>2021</td>\n",
       "      <td>TV-MA</td>\n",
       "      <td>1 Season</td>\n",
       "      <td>Crime TV Shows, International TV Shows, TV Act...</td>\n",
       "      <td>To protect his family from a powerful drug lor...</td>\n",
       "    </tr>\n",
       "    <tr>\n",
       "      <th>3</th>\n",
       "      <td>s4</td>\n",
       "      <td>TV Show</td>\n",
       "      <td>Jailbirds New Orleans</td>\n",
       "      <td>NaN</td>\n",
       "      <td>NaN</td>\n",
       "      <td>NaN</td>\n",
       "      <td>September 24, 2021</td>\n",
       "      <td>2021</td>\n",
       "      <td>TV-MA</td>\n",
       "      <td>1 Season</td>\n",
       "      <td>Docuseries, Reality TV</td>\n",
       "      <td>Feuds, flirtations and toilet talk go down amo...</td>\n",
       "    </tr>\n",
       "    <tr>\n",
       "      <th>4</th>\n",
       "      <td>s5</td>\n",
       "      <td>TV Show</td>\n",
       "      <td>Kota Factory</td>\n",
       "      <td>NaN</td>\n",
       "      <td>Mayur More, Jitendra Kumar, Ranjan Raj, Alam K...</td>\n",
       "      <td>India</td>\n",
       "      <td>September 24, 2021</td>\n",
       "      <td>2021</td>\n",
       "      <td>TV-MA</td>\n",
       "      <td>2 Seasons</td>\n",
       "      <td>International TV Shows, Romantic TV Shows, TV ...</td>\n",
       "      <td>In a city of coaching centers known to train I...</td>\n",
       "    </tr>\n",
       "  </tbody>\n",
       "</table>\n",
       "</div>"
      ],
      "text/plain": [
       "  show_id     type                  title         director  \\\n",
       "0      s1    Movie   Dick Johnson Is Dead  Kirsten Johnson   \n",
       "1      s2  TV Show          Blood & Water              NaN   \n",
       "2      s3  TV Show              Ganglands  Julien Leclercq   \n",
       "3      s4  TV Show  Jailbirds New Orleans              NaN   \n",
       "4      s5  TV Show           Kota Factory              NaN   \n",
       "\n",
       "                                                cast        country  \\\n",
       "0                                                NaN  United States   \n",
       "1  Ama Qamata, Khosi Ngema, Gail Mabalane, Thaban...   South Africa   \n",
       "2  Sami Bouajila, Tracy Gotoas, Samuel Jouy, Nabi...            NaN   \n",
       "3                                                NaN            NaN   \n",
       "4  Mayur More, Jitendra Kumar, Ranjan Raj, Alam K...          India   \n",
       "\n",
       "           date_added  release_year rating   duration  \\\n",
       "0  September 25, 2021          2020  PG-13     90 min   \n",
       "1  September 24, 2021          2021  TV-MA  2 Seasons   \n",
       "2  September 24, 2021          2021  TV-MA   1 Season   \n",
       "3  September 24, 2021          2021  TV-MA   1 Season   \n",
       "4  September 24, 2021          2021  TV-MA  2 Seasons   \n",
       "\n",
       "                                           listed_in  \\\n",
       "0                                      Documentaries   \n",
       "1    International TV Shows, TV Dramas, TV Mysteries   \n",
       "2  Crime TV Shows, International TV Shows, TV Act...   \n",
       "3                             Docuseries, Reality TV   \n",
       "4  International TV Shows, Romantic TV Shows, TV ...   \n",
       "\n",
       "                                         description  \n",
       "0  As her father nears the end of his life, filmm...  \n",
       "1  After crossing paths at a party, a Cape Town t...  \n",
       "2  To protect his family from a powerful drug lor...  \n",
       "3  Feuds, flirtations and toilet talk go down amo...  \n",
       "4  In a city of coaching centers known to train I...  "
      ]
     },
     "execution_count": 105,
     "metadata": {},
     "output_type": "execute_result"
    }
   ],
   "source": [
    "import pandas as pd\n",
    "import numpy as np\n",
    "data = pd.read_csv('netflix_titles.csv')\n",
    "data.head(5)"
   ]
  },
  {
   "cell_type": "code",
   "execution_count": 33,
   "id": "89e2a169-3348-4ff9-abda-09699ad5a947",
   "metadata": {},
   "outputs": [
    {
     "name": "stdout",
     "output_type": "stream",
     "text": [
      "12\n"
     ]
    },
    {
     "data": {
      "text/plain": [
       "show_id         object\n",
       "type            object\n",
       "title           object\n",
       "director        object\n",
       "cast            object\n",
       "country         object\n",
       "date_added      object\n",
       "release_year     int64\n",
       "rating          object\n",
       "duration        object\n",
       "listed_in       object\n",
       "description     object\n",
       "dtype: object"
      ]
     },
     "execution_count": 33,
     "metadata": {},
     "output_type": "execute_result"
    }
   ],
   "source": [
    "columns = data.shape[1] # to print the no. of columns \n",
    "print (columns)\n",
    "data.dtypes"
   ]
  },
  {
   "cell_type": "code",
   "execution_count": 34,
   "id": "5235a662-1b74-4d14-9709-c78e898ecd3d",
   "metadata": {},
   "outputs": [
    {
     "data": {
      "text/html": [
       "<div>\n",
       "<style scoped>\n",
       "    .dataframe tbody tr th:only-of-type {\n",
       "        vertical-align: middle;\n",
       "    }\n",
       "\n",
       "    .dataframe tbody tr th {\n",
       "        vertical-align: top;\n",
       "    }\n",
       "\n",
       "    .dataframe thead th {\n",
       "        text-align: right;\n",
       "    }\n",
       "</style>\n",
       "<table border=\"1\" class=\"dataframe\">\n",
       "  <thead>\n",
       "    <tr style=\"text-align: right;\">\n",
       "      <th></th>\n",
       "      <th>release_year</th>\n",
       "    </tr>\n",
       "  </thead>\n",
       "  <tbody>\n",
       "    <tr>\n",
       "      <th>count</th>\n",
       "      <td>8807.000000</td>\n",
       "    </tr>\n",
       "    <tr>\n",
       "      <th>mean</th>\n",
       "      <td>2014.180198</td>\n",
       "    </tr>\n",
       "    <tr>\n",
       "      <th>std</th>\n",
       "      <td>8.819312</td>\n",
       "    </tr>\n",
       "    <tr>\n",
       "      <th>min</th>\n",
       "      <td>1925.000000</td>\n",
       "    </tr>\n",
       "    <tr>\n",
       "      <th>25%</th>\n",
       "      <td>2013.000000</td>\n",
       "    </tr>\n",
       "    <tr>\n",
       "      <th>50%</th>\n",
       "      <td>2017.000000</td>\n",
       "    </tr>\n",
       "    <tr>\n",
       "      <th>75%</th>\n",
       "      <td>2019.000000</td>\n",
       "    </tr>\n",
       "    <tr>\n",
       "      <th>max</th>\n",
       "      <td>2021.000000</td>\n",
       "    </tr>\n",
       "  </tbody>\n",
       "</table>\n",
       "</div>"
      ],
      "text/plain": [
       "       release_year\n",
       "count   8807.000000\n",
       "mean    2014.180198\n",
       "std        8.819312\n",
       "min     1925.000000\n",
       "25%     2013.000000\n",
       "50%     2017.000000\n",
       "75%     2019.000000\n",
       "max     2021.000000"
      ]
     },
     "execution_count": 34,
     "metadata": {},
     "output_type": "execute_result"
    }
   ],
   "source": [
    "data.describe()"
   ]
  },
  {
   "cell_type": "markdown",
   "id": "0972d409-0c9c-448d-9a40-ec25ac0522c5",
   "metadata": {},
   "source": [
    "## q2"
   ]
  },
  {
   "cell_type": "code",
   "execution_count": 35,
   "id": "397d5bcf-6fb0-4295-a936-4a4e72b6a71e",
   "metadata": {},
   "outputs": [
    {
     "name": "stdout",
     "output_type": "stream",
     "text": [
      "         type                  title\n",
      "1     TV Show          Blood & Water\n",
      "2     TV Show              Ganglands\n",
      "3     TV Show  Jailbirds New Orleans\n",
      "4     TV Show           Kota Factory\n",
      "5     TV Show          Midnight Mass\n",
      "...       ...                    ...\n",
      "8795  TV Show        Yu-Gi-Oh! Arc-V\n",
      "8796  TV Show             Yunus Emre\n",
      "8797  TV Show              Zak Storm\n",
      "8800  TV Show     Zindagi Gulzar Hai\n",
      "8803  TV Show            Zombie Dumb\n",
      "\n",
      "[2675 rows x 2 columns]\n"
     ]
    }
   ],
   "source": [
    "dispaly = data[\n",
    "(data[\"type\"]== \"TV Show\") &\n",
    "(data[\"title\"])\n",
    "]\n",
    "print (dispaly[[\"type\", \"title\"]])"
   ]
  },
  {
   "cell_type": "markdown",
   "id": "f9409f73-920a-42b3-a9ea-7a40038b3d25",
   "metadata": {},
   "source": [
    "Show all movies released in 2020."
   ]
  },
  {
   "cell_type": "code",
   "execution_count": 36,
   "id": "f38c3a09-270a-4b5b-9bde-30a2338b0018",
   "metadata": {},
   "outputs": [
    {
     "name": "stdout",
     "output_type": "stream",
     "text": [
      "      release_year                                              title\n",
      "0             2020                               Dick Johnson Is Dead\n",
      "16            2020  Europe's Most Dangerous Man: Otto Skorzeny in ...\n",
      "78            2020                                     Tughlaq Durbar\n",
      "84            2020                               Omo Ghetto: the Saga\n",
      "103           2020                                     Shadow Parties\n",
      "...            ...                                                ...\n",
      "3046          2020                      All the Freckles in the World\n",
      "3060          2020                                      Ghost Stories\n",
      "5972          2020                                   #cats_the_mewvie\n",
      "7594          2020                 Norm of the North: Family Vacation\n",
      "8099          2020                                        Straight Up\n",
      "\n",
      "[517 rows x 2 columns]\n"
     ]
    }
   ],
   "source": [
    "movies = data[\n",
    "(data['release_year'] == 2020) &\n",
    "(data['type'] == 'Movie') \n",
    "]\n",
    "print (movies[[\"release_year\",'title' ]])\n"
   ]
  },
  {
   "cell_type": "code",
   "execution_count": 37,
   "id": "590c1ef2-7c72-4c64-b334-12e3ed10ef9a",
   "metadata": {},
   "outputs": [
    {
     "name": "stdout",
     "output_type": "stream",
     "text": [
      "                       title     type\n",
      "1              Blood & Water  TV Show\n",
      "2                  Ganglands  TV Show\n",
      "3      Jailbirds New Orleans  TV Show\n",
      "4               Kota Factory  TV Show\n",
      "5              Midnight Mass  TV Show\n",
      "...                      ...      ...\n",
      "8762         Wrong Side Raju    Movie\n",
      "8769  Y.M.I.: Yeh Mera India    Movie\n",
      "8788            You Carry Me    Movie\n",
      "8798                Zed Plus    Movie\n",
      "8801                 Zinzana    Movie\n",
      "\n",
      "[3207 rows x 2 columns]\n"
     ]
    }
   ],
   "source": [
    "ratings = data[\n",
    "(data['rating']== 'TV-MA') \n",
    "]\n",
    "\n",
    "print (ratings[['title', 'type']])"
   ]
  },
  {
   "cell_type": "code",
   "execution_count": 38,
   "id": "708e2303-a20e-44a8-8c50-44f4c9a50d39",
   "metadata": {},
   "outputs": [
    {
     "data": {
      "text/plain": [
       "show_id            0\n",
       "type               0\n",
       "title              0\n",
       "director        2634\n",
       "cast             825\n",
       "country          831\n",
       "date_added        10\n",
       "release_year       0\n",
       "rating             4\n",
       "duration           3\n",
       "listed_in          0\n",
       "description        0\n",
       "dtype: int64"
      ]
     },
     "execution_count": 38,
     "metadata": {},
     "output_type": "execute_result"
    }
   ],
   "source": [
    "data.isnull().sum()"
   ]
  },
  {
   "cell_type": "code",
   "execution_count": 39,
   "id": "a7a66407-cc37-4933-9be9-e304e0ea3c31",
   "metadata": {},
   "outputs": [
    {
     "data": {
      "text/plain": [
       "0       Kirsten Johnson\n",
       "1         Not available\n",
       "2       Julien Leclercq\n",
       "3         Not available\n",
       "4         Not available\n",
       "             ...       \n",
       "8802      David Fincher\n",
       "8803      Not available\n",
       "8804    Ruben Fleischer\n",
       "8805       Peter Hewitt\n",
       "8806        Mozez Singh\n",
       "Name: director, Length: 8807, dtype: object"
      ]
     },
     "execution_count": 39,
     "metadata": {},
     "output_type": "execute_result"
    }
   ],
   "source": [
    "data[\"director\"].fillna(\"Not available\")"
   ]
  },
  {
   "cell_type": "code",
   "execution_count": 40,
   "id": "532d94f5-372a-4650-8ccd-39b90320d385",
   "metadata": {},
   "outputs": [
    {
     "data": {
      "text/plain": [
       "0       Kirsten Johnson\n",
       "1                   NaN\n",
       "2       Julien Leclercq\n",
       "3                   NaN\n",
       "4                   NaN\n",
       "             ...       \n",
       "8802      David Fincher\n",
       "8803                NaN\n",
       "8804    Ruben Fleischer\n",
       "8805       Peter Hewitt\n",
       "8806        Mozez Singh\n",
       "Name: director, Length: 8807, dtype: object"
      ]
     },
     "execution_count": 40,
     "metadata": {},
     "output_type": "execute_result"
    }
   ],
   "source": [
    "data[\"director\"]"
   ]
  },
  {
   "cell_type": "markdown",
   "id": "7a5d1a9e-42f3-4fab-bb1f-1390b35483d3",
   "metadata": {},
   "source": [
    "Drop all rows where the country is missing."
   ]
  },
  {
   "cell_type": "code",
   "execution_count": 41,
   "id": "8d295271-81e7-4455-80d3-8862b87d1381",
   "metadata": {},
   "outputs": [
    {
     "data": {
      "text/plain": [
       "0                                           United States\n",
       "1                                            South Africa\n",
       "4                                                   India\n",
       "7       United States, Ghana, Burkina Faso, United Kin...\n",
       "8                                          United Kingdom\n",
       "                              ...                        \n",
       "8801                         United Arab Emirates, Jordan\n",
       "8802                                        United States\n",
       "8804                                        United States\n",
       "8805                                        United States\n",
       "8806                                                India\n",
       "Name: country, Length: 7976, dtype: object"
      ]
     },
     "execution_count": 41,
     "metadata": {},
     "output_type": "execute_result"
    }
   ],
   "source": [
    "data[\"country\"].dropna()"
   ]
  },
  {
   "cell_type": "markdown",
   "id": "5fd22c24-fdc9-4817-957d-e437084b4a97",
   "metadata": {},
   "source": [
    "Sort the dataset by release_year in descending order."
   ]
  },
  {
   "cell_type": "code",
   "execution_count": 42,
   "id": "df413fda-56ea-41dc-bf7d-00f64b007c6d",
   "metadata": {},
   "outputs": [
    {
     "data": {
      "text/plain": [
       "1       2021\n",
       "2       2021\n",
       "3       2021\n",
       "31      2021\n",
       "30      2021\n",
       "        ... \n",
       "8739    1943\n",
       "8660    1943\n",
       "7790    1942\n",
       "8205    1942\n",
       "4250    1925\n",
       "Name: release_year, Length: 8807, dtype: int64"
      ]
     },
     "execution_count": 42,
     "metadata": {},
     "output_type": "execute_result"
    }
   ],
   "source": [
    "data[\"release_year\"].sort_values(ascending= False)"
   ]
  },
  {
   "cell_type": "code",
   "execution_count": 43,
   "id": "7db61446-d863-41e7-841e-9b293162987b",
   "metadata": {},
   "outputs": [
    {
     "name": "stdout",
     "output_type": "stream",
     "text": [
      "     show_id     type                                          title  \\\n",
      "1         s2  TV Show                                  Blood & Water   \n",
      "2         s3  TV Show                                      Ganglands   \n",
      "3         s4  TV Show                          Jailbirds New Orleans   \n",
      "31       s32  TV Show                             Chicago Party Aunt   \n",
      "30       s31    Movie                                Ankahi Kahaniya   \n",
      "...      ...      ...                                            ...   \n",
      "8739   s8740    Movie             Why We Fight: The Battle of Russia   \n",
      "8660   s8661    Movie  Undercover: How to Operate Behind Enemy Lines   \n",
      "7790   s7791    Movie                                 Prelude to War   \n",
      "8205   s8206    Movie                           The Battle of Midway   \n",
      "4250   s4251  TV Show              Pioneers: First Women Filmmakers*   \n",
      "\n",
      "                                               director  \\\n",
      "1                                                   NaN   \n",
      "2                                       Julien Leclercq   \n",
      "3                                                   NaN   \n",
      "31                                                  NaN   \n",
      "30    Ashwiny Iyer Tiwari, Abhishek Chaubey, Saket C...   \n",
      "...                                                 ...   \n",
      "8739                        Frank Capra, Anatole Litvak   \n",
      "8660                                          John Ford   \n",
      "7790                                        Frank Capra   \n",
      "8205                                          John Ford   \n",
      "4250                                                NaN   \n",
      "\n",
      "                                                   cast        country  \\\n",
      "1     Ama Qamata, Khosi Ngema, Gail Mabalane, Thaban...   South Africa   \n",
      "2     Sami Bouajila, Tracy Gotoas, Samuel Jouy, Nabi...            NaN   \n",
      "3                                                   NaN            NaN   \n",
      "31    Lauren Ash, Rory O'Malley, RuPaul Charles, Jil...            NaN   \n",
      "30    Abhishek Banerjee, Rinku Rajguru, Delzad Hiwal...            NaN   \n",
      "...                                                 ...            ...   \n",
      "8739                                                NaN  United States   \n",
      "8660                                                NaN  United States   \n",
      "7790                                                NaN  United States   \n",
      "8205                          Henry Fonda, Jane Darwell  United States   \n",
      "4250                                                NaN            NaN   \n",
      "\n",
      "              date_added  release_year rating   duration  \\\n",
      "1     September 24, 2021          2021  TV-MA  2 Seasons   \n",
      "2     September 24, 2021          2021  TV-MA   1 Season   \n",
      "3     September 24, 2021          2021  TV-MA   1 Season   \n",
      "31    September 17, 2021          2021  TV-MA   1 Season   \n",
      "30    September 17, 2021          2021  TV-14    111 min   \n",
      "...                  ...           ...    ...        ...   \n",
      "8739      March 31, 2017          1943  TV-PG     82 min   \n",
      "8660      March 31, 2017          1943  TV-PG     61 min   \n",
      "7790      March 31, 2017          1942  TV-14     52 min   \n",
      "8205      March 31, 2017          1942  TV-14     18 min   \n",
      "4250   December 30, 2018          1925  TV-14   1 Season   \n",
      "\n",
      "                                              listed_in  \\\n",
      "1       International TV Shows, TV Dramas, TV Mysteries   \n",
      "2     Crime TV Shows, International TV Shows, TV Act...   \n",
      "3                                Docuseries, Reality TV   \n",
      "31                                          TV Comedies   \n",
      "30     Dramas, Independent Movies, International Movies   \n",
      "...                                                 ...   \n",
      "8739                                      Documentaries   \n",
      "8660                      Classic Movies, Documentaries   \n",
      "7790                      Classic Movies, Documentaries   \n",
      "8205                      Classic Movies, Documentaries   \n",
      "4250                                           TV Shows   \n",
      "\n",
      "                                            description  \n",
      "1     After crossing paths at a party, a Cape Town t...  \n",
      "2     To protect his family from a powerful drug lor...  \n",
      "3     Feuds, flirtations and toilet talk go down amo...  \n",
      "31    Chicago Party Aunt Diane is an idolized troubl...  \n",
      "30    As big city life buzzes around them, lonely so...  \n",
      "...                                                 ...  \n",
      "8739  This installment of Frank Capra's acclaimed do...  \n",
      "8660  This World War II-era training film dramatizes...  \n",
      "7790  Frank Capra's documentary chronicles the rise ...  \n",
      "8205  Director John Ford captures combat footage of ...  \n",
      "4250  This collection restores films from women who ...  \n",
      "\n",
      "[8807 rows x 12 columns]\n"
     ]
    }
   ],
   "source": [
    "data = data.sort_values(by=\"release_year\", ascending=False)\n",
    "print (data)"
   ]
  },
  {
   "cell_type": "markdown",
   "id": "888ce382-0740-4830-9846-c0f2fbcee701",
   "metadata": {},
   "source": [
    " Group by type and count how many entries of each type exist."
   ]
  },
  {
   "cell_type": "code",
   "execution_count": 44,
   "id": "ae6f3df0-5c84-4d97-aecd-a925be57268b",
   "metadata": {},
   "outputs": [
    {
     "data": {
      "text/plain": [
       "type\n",
       "Movie      6132\n",
       "TV Show    2675\n",
       "Name: type, dtype: int64"
      ]
     },
     "execution_count": 44,
     "metadata": {},
     "output_type": "execute_result"
    }
   ],
   "source": [
    "type_count = data.groupby(\"type\")[\"type\"].size()\n",
    "type_count"
   ]
  },
  {
   "cell_type": "markdown",
   "id": "ded3206e-3db8-4fba-a38a-1ac43b202a94",
   "metadata": {},
   "source": [
    "Find the most common rating using value counts."
   ]
  },
  {
   "cell_type": "code",
   "execution_count": 45,
   "id": "37e4be0d-e141-4977-9cf8-2f793c4f09f2",
   "metadata": {},
   "outputs": [
    {
     "data": {
      "text/plain": [
       "rating\n",
       "TV-MA    3207\n",
       "TV-14    2160\n",
       "TV-PG     863\n",
       "R         799\n",
       "PG-13     490\n",
       "Name: count, dtype: int64"
      ]
     },
     "execution_count": 45,
     "metadata": {},
     "output_type": "execute_result"
    }
   ],
   "source": [
    "common = data[\"rating\"].value_counts().head()\n",
    "common"
   ]
  },
  {
   "cell_type": "markdown",
   "id": "17a637ef-4073-449d-9524-e43128daf54c",
   "metadata": {},
   "source": [
    "Create a new column called content_category where:\n",
    "\n",
    "If type is \"Movie\", it's \"Film\"\n",
    "If type is \"TV Show\", it's \"Series\""
   ]
  },
  {
   "cell_type": "code",
   "execution_count": 46,
   "id": "e4620ad5-5945-4b24-8b78-be4c89e406b1",
   "metadata": {},
   "outputs": [
    {
     "data": {
      "text/html": [
       "<div>\n",
       "<style scoped>\n",
       "    .dataframe tbody tr th:only-of-type {\n",
       "        vertical-align: middle;\n",
       "    }\n",
       "\n",
       "    .dataframe tbody tr th {\n",
       "        vertical-align: top;\n",
       "    }\n",
       "\n",
       "    .dataframe thead th {\n",
       "        text-align: right;\n",
       "    }\n",
       "</style>\n",
       "<table border=\"1\" class=\"dataframe\">\n",
       "  <thead>\n",
       "    <tr style=\"text-align: right;\">\n",
       "      <th></th>\n",
       "      <th>type</th>\n",
       "      <th>content_category</th>\n",
       "    </tr>\n",
       "  </thead>\n",
       "  <tbody>\n",
       "    <tr>\n",
       "      <th>1</th>\n",
       "      <td>TV Show</td>\n",
       "      <td>it is a series</td>\n",
       "    </tr>\n",
       "    <tr>\n",
       "      <th>2</th>\n",
       "      <td>TV Show</td>\n",
       "      <td>it is a series</td>\n",
       "    </tr>\n",
       "    <tr>\n",
       "      <th>3</th>\n",
       "      <td>TV Show</td>\n",
       "      <td>it is a series</td>\n",
       "    </tr>\n",
       "    <tr>\n",
       "      <th>31</th>\n",
       "      <td>TV Show</td>\n",
       "      <td>it is a series</td>\n",
       "    </tr>\n",
       "    <tr>\n",
       "      <th>30</th>\n",
       "      <td>Movie</td>\n",
       "      <td>it is a movie</td>\n",
       "    </tr>\n",
       "    <tr>\n",
       "      <th>...</th>\n",
       "      <td>...</td>\n",
       "      <td>...</td>\n",
       "    </tr>\n",
       "    <tr>\n",
       "      <th>8739</th>\n",
       "      <td>Movie</td>\n",
       "      <td>it is a movie</td>\n",
       "    </tr>\n",
       "    <tr>\n",
       "      <th>8660</th>\n",
       "      <td>Movie</td>\n",
       "      <td>it is a movie</td>\n",
       "    </tr>\n",
       "    <tr>\n",
       "      <th>7790</th>\n",
       "      <td>Movie</td>\n",
       "      <td>it is a movie</td>\n",
       "    </tr>\n",
       "    <tr>\n",
       "      <th>8205</th>\n",
       "      <td>Movie</td>\n",
       "      <td>it is a movie</td>\n",
       "    </tr>\n",
       "    <tr>\n",
       "      <th>4250</th>\n",
       "      <td>TV Show</td>\n",
       "      <td>it is a series</td>\n",
       "    </tr>\n",
       "  </tbody>\n",
       "</table>\n",
       "<p>8807 rows × 2 columns</p>\n",
       "</div>"
      ],
      "text/plain": [
       "         type content_category\n",
       "1     TV Show   it is a series\n",
       "2     TV Show   it is a series\n",
       "3     TV Show   it is a series\n",
       "31    TV Show   it is a series\n",
       "30      Movie    it is a movie\n",
       "...       ...              ...\n",
       "8739    Movie    it is a movie\n",
       "8660    Movie    it is a movie\n",
       "7790    Movie    it is a movie\n",
       "8205    Movie    it is a movie\n",
       "4250  TV Show   it is a series\n",
       "\n",
       "[8807 rows x 2 columns]"
      ]
     },
     "execution_count": 46,
     "metadata": {},
     "output_type": "execute_result"
    }
   ],
   "source": [
    "data[\"content_category\"] = data[\"type\"].apply(\n",
    "    lambda x : \"it is a movie\" if x == \"Movie\" else \"it is a series\"\n",
    ")\n",
    "\n",
    "data[[\"type\", \"content_category\"]]"
   ]
  },
  {
   "cell_type": "code",
   "execution_count": 47,
   "id": "15e8d4af-3a9c-4dcb-a087-657433ddcb27",
   "metadata": {},
   "outputs": [
    {
     "name": "stdout",
     "output_type": "stream",
     "text": [
      "1       it is a series\n",
      "2       it is a series\n",
      "3       it is a series\n",
      "31      it is a series\n",
      "30       it is a movie\n",
      "             ...      \n",
      "8739     it is a movie\n",
      "8660     it is a movie\n",
      "7790     it is a movie\n",
      "8205     it is a movie\n",
      "4250    it is a series\n",
      "Name: content_category, Length: 8807, dtype: object\n"
     ]
    }
   ],
   "source": [
    "print (data['content_category'])"
   ]
  },
  {
   "cell_type": "markdown",
   "id": "124cad42-1bcb-4a36-83e0-8c00d52bdb62",
   "metadata": {},
   "source": [
    "Extract the year from date_added into a new column called added_year."
   ]
  },
  {
   "cell_type": "code",
   "execution_count": 48,
   "id": "6bb9a613-9fab-4106-a7ca-291c8ccd5e36",
   "metadata": {},
   "outputs": [
    {
     "data": {
      "text/html": [
       "<div>\n",
       "<style scoped>\n",
       "    .dataframe tbody tr th:only-of-type {\n",
       "        vertical-align: middle;\n",
       "    }\n",
       "\n",
       "    .dataframe tbody tr th {\n",
       "        vertical-align: top;\n",
       "    }\n",
       "\n",
       "    .dataframe thead th {\n",
       "        text-align: right;\n",
       "    }\n",
       "</style>\n",
       "<table border=\"1\" class=\"dataframe\">\n",
       "  <thead>\n",
       "    <tr style=\"text-align: right;\">\n",
       "      <th></th>\n",
       "      <th>show_love</th>\n",
       "      <th>title</th>\n",
       "    </tr>\n",
       "  </thead>\n",
       "  <tbody>\n",
       "    <tr>\n",
       "      <th>1</th>\n",
       "      <td>not contains</td>\n",
       "      <td>Blood &amp; Water</td>\n",
       "    </tr>\n",
       "    <tr>\n",
       "      <th>2</th>\n",
       "      <td>not contains</td>\n",
       "      <td>Ganglands</td>\n",
       "    </tr>\n",
       "    <tr>\n",
       "      <th>3</th>\n",
       "      <td>not contains</td>\n",
       "      <td>Jailbirds New Orleans</td>\n",
       "    </tr>\n",
       "    <tr>\n",
       "      <th>31</th>\n",
       "      <td>not contains</td>\n",
       "      <td>Chicago Party Aunt</td>\n",
       "    </tr>\n",
       "    <tr>\n",
       "      <th>30</th>\n",
       "      <td>not contains</td>\n",
       "      <td>Ankahi Kahaniya</td>\n",
       "    </tr>\n",
       "    <tr>\n",
       "      <th>...</th>\n",
       "      <td>...</td>\n",
       "      <td>...</td>\n",
       "    </tr>\n",
       "    <tr>\n",
       "      <th>8739</th>\n",
       "      <td>not contains</td>\n",
       "      <td>Why We Fight: The Battle of Russia</td>\n",
       "    </tr>\n",
       "    <tr>\n",
       "      <th>8660</th>\n",
       "      <td>not contains</td>\n",
       "      <td>Undercover: How to Operate Behind Enemy Lines</td>\n",
       "    </tr>\n",
       "    <tr>\n",
       "      <th>7790</th>\n",
       "      <td>not contains</td>\n",
       "      <td>Prelude to War</td>\n",
       "    </tr>\n",
       "    <tr>\n",
       "      <th>8205</th>\n",
       "      <td>not contains</td>\n",
       "      <td>The Battle of Midway</td>\n",
       "    </tr>\n",
       "    <tr>\n",
       "      <th>4250</th>\n",
       "      <td>not contains</td>\n",
       "      <td>Pioneers: First Women Filmmakers*</td>\n",
       "    </tr>\n",
       "  </tbody>\n",
       "</table>\n",
       "<p>8807 rows × 2 columns</p>\n",
       "</div>"
      ],
      "text/plain": [
       "         show_love                                          title\n",
       "1     not contains                                  Blood & Water\n",
       "2     not contains                                      Ganglands\n",
       "3     not contains                          Jailbirds New Orleans\n",
       "31    not contains                             Chicago Party Aunt\n",
       "30    not contains                                Ankahi Kahaniya\n",
       "...            ...                                            ...\n",
       "8739  not contains             Why We Fight: The Battle of Russia\n",
       "8660  not contains  Undercover: How to Operate Behind Enemy Lines\n",
       "7790  not contains                                 Prelude to War\n",
       "8205  not contains                           The Battle of Midway\n",
       "4250  not contains              Pioneers: First Women Filmmakers*\n",
       "\n",
       "[8807 rows x 2 columns]"
      ]
     },
     "execution_count": 48,
     "metadata": {},
     "output_type": "execute_result"
    }
   ],
   "source": [
    "data[\"show_love\"] = data[\"title\"].apply(\n",
    "    lambda x : \"yes it contains Love\" if \"Love\" in x else \"not contains\"\n",
    ") \n",
    "\n",
    "data[[\"show_love\", 'title']]"
   ]
  },
  {
   "cell_type": "code",
   "execution_count": null,
   "id": "1b9d6971-7e07-4bf7-ae20-c5b6b87ff920",
   "metadata": {},
   "outputs": [],
   "source": []
  },
  {
   "cell_type": "code",
   "execution_count": null,
   "id": "32ad7fce-3a61-4cd7-84ae-3682c01fa3c4",
   "metadata": {},
   "outputs": [],
   "source": []
  },
  {
   "cell_type": "code",
   "execution_count": null,
   "id": "e2f8a67f-b2a9-41f7-9c53-04b0d87290de",
   "metadata": {},
   "outputs": [],
   "source": []
  },
  {
   "cell_type": "code",
   "execution_count": 76,
   "id": "6fe27a30-12c5-4187-82ce-6b298a547390",
   "metadata": {},
   "outputs": [],
   "source": [
    "import pandas as pd\n",
    "\n",
    "peta = {\n",
    "    'Name': ['Alice', 'Bob', 'Charlie', 'David'],\n",
    "    'Score': [92, 88, 88, 70]\n",
    "}\n",
    "df = pd.DataFrame(peta)\n",
    "\n",
    "df['Rank'] = df['Score'].rank(ascending=False)  # higher score = higher rank\n",
    "\n"
   ]
  },
  {
   "cell_type": "code",
   "execution_count": 77,
   "id": "8792d62a-888d-4221-ada0-bfb7cd3c8eee",
   "metadata": {},
   "outputs": [],
   "source": [
    "import pandas as pd\n",
    "\n",
    "data = pd.read_csv(\"netflix_titles.csv\")  # or the correct path\n"
   ]
  },
  {
   "cell_type": "code",
   "execution_count": 78,
   "id": "92707f43-7b03-4fd8-b23f-c2948cb7ba9a",
   "metadata": {},
   "outputs": [
    {
     "data": {
      "text/plain": [
       "type\n",
       "Movie      6132\n",
       "TV Show    2675\n",
       "Name: count, dtype: int64"
      ]
     },
     "execution_count": 78,
     "metadata": {},
     "output_type": "execute_result"
    }
   ],
   "source": [
    "data[\"type\"].value_counts()"
   ]
  },
  {
   "cell_type": "code",
   "execution_count": 79,
   "id": "5f5af3fd-92bf-4be1-84d8-f4c8c567a8c6",
   "metadata": {},
   "outputs": [
    {
     "data": {
      "text/plain": [
       "Index(['show_id', 'type', 'title', 'director', 'cast', 'country', 'date_added',\n",
       "       'release_year', 'rating', 'duration', 'listed_in', 'description'],\n",
       "      dtype='object')"
      ]
     },
     "execution_count": 79,
     "metadata": {},
     "output_type": "execute_result"
    }
   ],
   "source": [
    "data.columns"
   ]
  },
  {
   "cell_type": "code",
   "execution_count": 80,
   "id": "ef6fb3dd-dc9e-42c8-a350-307ace9b8abd",
   "metadata": {},
   "outputs": [],
   "source": [
    "common = data[\"rating\"].value_counts().head(1)"
   ]
  },
  {
   "cell_type": "code",
   "execution_count": 81,
   "id": "03616e43-b42d-4f00-984d-b10caaaf7231",
   "metadata": {},
   "outputs": [
    {
     "data": {
      "text/plain": [
       "rating\n",
       "TV-MA    3207\n",
       "Name: count, dtype: int64"
      ]
     },
     "execution_count": 81,
     "metadata": {},
     "output_type": "execute_result"
    }
   ],
   "source": [
    "common"
   ]
  },
  {
   "cell_type": "code",
   "execution_count": 102,
   "id": "00d60d0b-38e2-49ab-8207-c92e8728560e",
   "metadata": {},
   "outputs": [],
   "source": [
    "data[\"sortu\"] = data[\"title\"].apply(\n",
    "    lambda x : \"Yes this contains love\" if \"Love\" in x else \"it doesnt contain love\"\n",
    ")\n"
   ]
  },
  {
   "cell_type": "code",
   "execution_count": 103,
   "id": "83d17b17-71cf-4183-ba3c-a33775c4204f",
   "metadata": {},
   "outputs": [
    {
     "data": {
      "text/html": [
       "<div>\n",
       "<style scoped>\n",
       "    .dataframe tbody tr th:only-of-type {\n",
       "        vertical-align: middle;\n",
       "    }\n",
       "\n",
       "    .dataframe tbody tr th {\n",
       "        vertical-align: top;\n",
       "    }\n",
       "\n",
       "    .dataframe thead th {\n",
       "        text-align: right;\n",
       "    }\n",
       "</style>\n",
       "<table border=\"1\" class=\"dataframe\">\n",
       "  <thead>\n",
       "    <tr style=\"text-align: right;\">\n",
       "      <th></th>\n",
       "      <th>title</th>\n",
       "      <th>sortu</th>\n",
       "    </tr>\n",
       "  </thead>\n",
       "  <tbody>\n",
       "    <tr>\n",
       "      <th>0</th>\n",
       "      <td>Dick Johnson Is Dead</td>\n",
       "      <td>it doesnt contain love</td>\n",
       "    </tr>\n",
       "    <tr>\n",
       "      <th>1</th>\n",
       "      <td>Blood &amp; Water</td>\n",
       "      <td>it doesnt contain love</td>\n",
       "    </tr>\n",
       "    <tr>\n",
       "      <th>2</th>\n",
       "      <td>Ganglands</td>\n",
       "      <td>it doesnt contain love</td>\n",
       "    </tr>\n",
       "    <tr>\n",
       "      <th>3</th>\n",
       "      <td>Jailbirds New Orleans</td>\n",
       "      <td>it doesnt contain love</td>\n",
       "    </tr>\n",
       "    <tr>\n",
       "      <th>4</th>\n",
       "      <td>Kota Factory</td>\n",
       "      <td>it doesnt contain love</td>\n",
       "    </tr>\n",
       "    <tr>\n",
       "      <th>...</th>\n",
       "      <td>...</td>\n",
       "      <td>...</td>\n",
       "    </tr>\n",
       "    <tr>\n",
       "      <th>8802</th>\n",
       "      <td>Zodiac</td>\n",
       "      <td>it doesnt contain love</td>\n",
       "    </tr>\n",
       "    <tr>\n",
       "      <th>8803</th>\n",
       "      <td>Zombie Dumb</td>\n",
       "      <td>it doesnt contain love</td>\n",
       "    </tr>\n",
       "    <tr>\n",
       "      <th>8804</th>\n",
       "      <td>Zombieland</td>\n",
       "      <td>it doesnt contain love</td>\n",
       "    </tr>\n",
       "    <tr>\n",
       "      <th>8805</th>\n",
       "      <td>Zoom</td>\n",
       "      <td>it doesnt contain love</td>\n",
       "    </tr>\n",
       "    <tr>\n",
       "      <th>8806</th>\n",
       "      <td>Zubaan</td>\n",
       "      <td>it doesnt contain love</td>\n",
       "    </tr>\n",
       "  </tbody>\n",
       "</table>\n",
       "<p>8807 rows × 2 columns</p>\n",
       "</div>"
      ],
      "text/plain": [
       "                      title                   sortu\n",
       "0      Dick Johnson Is Dead  it doesnt contain love\n",
       "1             Blood & Water  it doesnt contain love\n",
       "2                 Ganglands  it doesnt contain love\n",
       "3     Jailbirds New Orleans  it doesnt contain love\n",
       "4              Kota Factory  it doesnt contain love\n",
       "...                     ...                     ...\n",
       "8802                 Zodiac  it doesnt contain love\n",
       "8803            Zombie Dumb  it doesnt contain love\n",
       "8804             Zombieland  it doesnt contain love\n",
       "8805                   Zoom  it doesnt contain love\n",
       "8806                 Zubaan  it doesnt contain love\n",
       "\n",
       "[8807 rows x 2 columns]"
      ]
     },
     "execution_count": 103,
     "metadata": {},
     "output_type": "execute_result"
    }
   ],
   "source": [
    "data[['title', 'sortu']]"
   ]
  },
  {
   "cell_type": "code",
   "execution_count": 104,
   "id": "b4ea32db-7013-47ba-9ae8-61ceb78102a2",
   "metadata": {},
   "outputs": [
    {
     "data": {
      "text/html": [
       "<div>\n",
       "<style scoped>\n",
       "    .dataframe tbody tr th:only-of-type {\n",
       "        vertical-align: middle;\n",
       "    }\n",
       "\n",
       "    .dataframe tbody tr th {\n",
       "        vertical-align: top;\n",
       "    }\n",
       "\n",
       "    .dataframe thead th {\n",
       "        text-align: right;\n",
       "    }\n",
       "</style>\n",
       "<table border=\"1\" class=\"dataframe\">\n",
       "  <thead>\n",
       "    <tr style=\"text-align: right;\">\n",
       "      <th></th>\n",
       "      <th>show_id</th>\n",
       "      <th>type</th>\n",
       "    </tr>\n",
       "  </thead>\n",
       "  <tbody>\n",
       "    <tr>\n",
       "      <th>0</th>\n",
       "      <td>s1</td>\n",
       "      <td>Movie</td>\n",
       "    </tr>\n",
       "    <tr>\n",
       "      <th>1</th>\n",
       "      <td>s2</td>\n",
       "      <td>TV Show</td>\n",
       "    </tr>\n",
       "    <tr>\n",
       "      <th>2</th>\n",
       "      <td>s3</td>\n",
       "      <td>TV Show</td>\n",
       "    </tr>\n",
       "    <tr>\n",
       "      <th>3</th>\n",
       "      <td>s4</td>\n",
       "      <td>TV Show</td>\n",
       "    </tr>\n",
       "    <tr>\n",
       "      <th>4</th>\n",
       "      <td>s5</td>\n",
       "      <td>TV Show</td>\n",
       "    </tr>\n",
       "    <tr>\n",
       "      <th>...</th>\n",
       "      <td>...</td>\n",
       "      <td>...</td>\n",
       "    </tr>\n",
       "    <tr>\n",
       "      <th>8802</th>\n",
       "      <td>s8803</td>\n",
       "      <td>Movie</td>\n",
       "    </tr>\n",
       "    <tr>\n",
       "      <th>8803</th>\n",
       "      <td>s8804</td>\n",
       "      <td>TV Show</td>\n",
       "    </tr>\n",
       "    <tr>\n",
       "      <th>8804</th>\n",
       "      <td>s8805</td>\n",
       "      <td>Movie</td>\n",
       "    </tr>\n",
       "    <tr>\n",
       "      <th>8805</th>\n",
       "      <td>s8806</td>\n",
       "      <td>Movie</td>\n",
       "    </tr>\n",
       "    <tr>\n",
       "      <th>8806</th>\n",
       "      <td>s8807</td>\n",
       "      <td>Movie</td>\n",
       "    </tr>\n",
       "  </tbody>\n",
       "</table>\n",
       "<p>8807 rows × 2 columns</p>\n",
       "</div>"
      ],
      "text/plain": [
       "     show_id     type\n",
       "0         s1    Movie\n",
       "1         s2  TV Show\n",
       "2         s3  TV Show\n",
       "3         s4  TV Show\n",
       "4         s5  TV Show\n",
       "...      ...      ...\n",
       "8802   s8803    Movie\n",
       "8803   s8804  TV Show\n",
       "8804   s8805    Movie\n",
       "8805   s8806    Movie\n",
       "8806   s8807    Movie\n",
       "\n",
       "[8807 rows x 2 columns]"
      ]
     },
     "execution_count": 104,
     "metadata": {},
     "output_type": "execute_result"
    }
   ],
   "source": [
    "data[['show_id' , 'type']]"
   ]
  },
  {
   "cell_type": "code",
   "execution_count": 87,
   "id": "af8ea7da-ed42-4f1b-97ad-40d94e9b8c2e",
   "metadata": {},
   "outputs": [
    {
     "name": "stdout",
     "output_type": "stream",
     "text": [
      "<class 'dict'>\n"
     ]
    }
   ],
   "source": [
    "print(type(peta))\n"
   ]
  },
  {
   "cell_type": "code",
   "execution_count": 88,
   "id": "65f44272-722f-4f47-8a7d-b56040605f1d",
   "metadata": {},
   "outputs": [],
   "source": [
    "op = pd.DataFrame(peta)"
   ]
  },
  {
   "cell_type": "code",
   "execution_count": 90,
   "id": "90f46859-856f-4c06-8aeb-d3fcc096c1d9",
   "metadata": {},
   "outputs": [],
   "source": [
    "op.to_excel(\"netflix_titles.xlsx\", sheet_name=\"Ohh yeah\", index=False)\n"
   ]
  },
  {
   "cell_type": "code",
   "execution_count": 91,
   "id": "55b8d17a-96d7-44a3-bacb-35c4f33150be",
   "metadata": {},
   "outputs": [
    {
     "data": {
      "text/html": [
       "<div>\n",
       "<style scoped>\n",
       "    .dataframe tbody tr th:only-of-type {\n",
       "        vertical-align: middle;\n",
       "    }\n",
       "\n",
       "    .dataframe tbody tr th {\n",
       "        vertical-align: top;\n",
       "    }\n",
       "\n",
       "    .dataframe thead th {\n",
       "        text-align: right;\n",
       "    }\n",
       "</style>\n",
       "<table border=\"1\" class=\"dataframe\">\n",
       "  <thead>\n",
       "    <tr style=\"text-align: right;\">\n",
       "      <th></th>\n",
       "      <th>show_id</th>\n",
       "      <th>type</th>\n",
       "      <th>title</th>\n",
       "      <th>director</th>\n",
       "      <th>cast</th>\n",
       "      <th>country</th>\n",
       "      <th>date_added</th>\n",
       "      <th>release_year</th>\n",
       "      <th>rating</th>\n",
       "      <th>duration</th>\n",
       "      <th>listed_in</th>\n",
       "      <th>description</th>\n",
       "      <th>sortu</th>\n",
       "    </tr>\n",
       "  </thead>\n",
       "  <tbody>\n",
       "    <tr>\n",
       "      <th>0</th>\n",
       "      <td>s1</td>\n",
       "      <td>Movie</td>\n",
       "      <td>Dick Johnson Is Dead</td>\n",
       "      <td>Kirsten Johnson</td>\n",
       "      <td>NaN</td>\n",
       "      <td>United States</td>\n",
       "      <td>September 25, 2021</td>\n",
       "      <td>2020</td>\n",
       "      <td>PG-13</td>\n",
       "      <td>90 min</td>\n",
       "      <td>Documentaries</td>\n",
       "      <td>As her father nears the end of his life, filmm...</td>\n",
       "      <td>it doesnt contain live</td>\n",
       "    </tr>\n",
       "    <tr>\n",
       "      <th>1</th>\n",
       "      <td>s2</td>\n",
       "      <td>TV Show</td>\n",
       "      <td>Blood &amp; Water</td>\n",
       "      <td>NaN</td>\n",
       "      <td>Ama Qamata, Khosi Ngema, Gail Mabalane, Thaban...</td>\n",
       "      <td>South Africa</td>\n",
       "      <td>September 24, 2021</td>\n",
       "      <td>2021</td>\n",
       "      <td>TV-MA</td>\n",
       "      <td>2 Seasons</td>\n",
       "      <td>International TV Shows, TV Dramas, TV Mysteries</td>\n",
       "      <td>After crossing paths at a party, a Cape Town t...</td>\n",
       "      <td>it doesnt contain live</td>\n",
       "    </tr>\n",
       "    <tr>\n",
       "      <th>2</th>\n",
       "      <td>s3</td>\n",
       "      <td>TV Show</td>\n",
       "      <td>Ganglands</td>\n",
       "      <td>Julien Leclercq</td>\n",
       "      <td>Sami Bouajila, Tracy Gotoas, Samuel Jouy, Nabi...</td>\n",
       "      <td>NaN</td>\n",
       "      <td>September 24, 2021</td>\n",
       "      <td>2021</td>\n",
       "      <td>TV-MA</td>\n",
       "      <td>1 Season</td>\n",
       "      <td>Crime TV Shows, International TV Shows, TV Act...</td>\n",
       "      <td>To protect his family from a powerful drug lor...</td>\n",
       "      <td>it doesnt contain live</td>\n",
       "    </tr>\n",
       "    <tr>\n",
       "      <th>3</th>\n",
       "      <td>s4</td>\n",
       "      <td>TV Show</td>\n",
       "      <td>Jailbirds New Orleans</td>\n",
       "      <td>NaN</td>\n",
       "      <td>NaN</td>\n",
       "      <td>NaN</td>\n",
       "      <td>September 24, 2021</td>\n",
       "      <td>2021</td>\n",
       "      <td>TV-MA</td>\n",
       "      <td>1 Season</td>\n",
       "      <td>Docuseries, Reality TV</td>\n",
       "      <td>Feuds, flirtations and toilet talk go down amo...</td>\n",
       "      <td>it doesnt contain live</td>\n",
       "    </tr>\n",
       "    <tr>\n",
       "      <th>4</th>\n",
       "      <td>s5</td>\n",
       "      <td>TV Show</td>\n",
       "      <td>Kota Factory</td>\n",
       "      <td>NaN</td>\n",
       "      <td>Mayur More, Jitendra Kumar, Ranjan Raj, Alam K...</td>\n",
       "      <td>India</td>\n",
       "      <td>September 24, 2021</td>\n",
       "      <td>2021</td>\n",
       "      <td>TV-MA</td>\n",
       "      <td>2 Seasons</td>\n",
       "      <td>International TV Shows, Romantic TV Shows, TV ...</td>\n",
       "      <td>In a city of coaching centers known to train I...</td>\n",
       "      <td>it doesnt contain live</td>\n",
       "    </tr>\n",
       "    <tr>\n",
       "      <th>...</th>\n",
       "      <td>...</td>\n",
       "      <td>...</td>\n",
       "      <td>...</td>\n",
       "      <td>...</td>\n",
       "      <td>...</td>\n",
       "      <td>...</td>\n",
       "      <td>...</td>\n",
       "      <td>...</td>\n",
       "      <td>...</td>\n",
       "      <td>...</td>\n",
       "      <td>...</td>\n",
       "      <td>...</td>\n",
       "      <td>...</td>\n",
       "    </tr>\n",
       "    <tr>\n",
       "      <th>8802</th>\n",
       "      <td>s8803</td>\n",
       "      <td>Movie</td>\n",
       "      <td>Zodiac</td>\n",
       "      <td>David Fincher</td>\n",
       "      <td>Mark Ruffalo, Jake Gyllenhaal, Robert Downey J...</td>\n",
       "      <td>United States</td>\n",
       "      <td>November 20, 2019</td>\n",
       "      <td>2007</td>\n",
       "      <td>R</td>\n",
       "      <td>158 min</td>\n",
       "      <td>Cult Movies, Dramas, Thrillers</td>\n",
       "      <td>A political cartoonist, a crime reporter and a...</td>\n",
       "      <td>it doesnt contain live</td>\n",
       "    </tr>\n",
       "    <tr>\n",
       "      <th>8803</th>\n",
       "      <td>s8804</td>\n",
       "      <td>TV Show</td>\n",
       "      <td>Zombie Dumb</td>\n",
       "      <td>NaN</td>\n",
       "      <td>NaN</td>\n",
       "      <td>NaN</td>\n",
       "      <td>July 1, 2019</td>\n",
       "      <td>2018</td>\n",
       "      <td>TV-Y7</td>\n",
       "      <td>2 Seasons</td>\n",
       "      <td>Kids' TV, Korean TV Shows, TV Comedies</td>\n",
       "      <td>While living alone in a spooky town, a young g...</td>\n",
       "      <td>it doesnt contain live</td>\n",
       "    </tr>\n",
       "    <tr>\n",
       "      <th>8804</th>\n",
       "      <td>s8805</td>\n",
       "      <td>Movie</td>\n",
       "      <td>Zombieland</td>\n",
       "      <td>Ruben Fleischer</td>\n",
       "      <td>Jesse Eisenberg, Woody Harrelson, Emma Stone, ...</td>\n",
       "      <td>United States</td>\n",
       "      <td>November 1, 2019</td>\n",
       "      <td>2009</td>\n",
       "      <td>R</td>\n",
       "      <td>88 min</td>\n",
       "      <td>Comedies, Horror Movies</td>\n",
       "      <td>Looking to survive in a world taken over by zo...</td>\n",
       "      <td>it doesnt contain live</td>\n",
       "    </tr>\n",
       "    <tr>\n",
       "      <th>8805</th>\n",
       "      <td>s8806</td>\n",
       "      <td>Movie</td>\n",
       "      <td>Zoom</td>\n",
       "      <td>Peter Hewitt</td>\n",
       "      <td>Tim Allen, Courteney Cox, Chevy Chase, Kate Ma...</td>\n",
       "      <td>United States</td>\n",
       "      <td>January 11, 2020</td>\n",
       "      <td>2006</td>\n",
       "      <td>PG</td>\n",
       "      <td>88 min</td>\n",
       "      <td>Children &amp; Family Movies, Comedies</td>\n",
       "      <td>Dragged from civilian life, a former superhero...</td>\n",
       "      <td>it doesnt contain live</td>\n",
       "    </tr>\n",
       "    <tr>\n",
       "      <th>8806</th>\n",
       "      <td>s8807</td>\n",
       "      <td>Movie</td>\n",
       "      <td>Zubaan</td>\n",
       "      <td>Mozez Singh</td>\n",
       "      <td>Vicky Kaushal, Sarah-Jane Dias, Raaghav Chanan...</td>\n",
       "      <td>India</td>\n",
       "      <td>March 2, 2019</td>\n",
       "      <td>2015</td>\n",
       "      <td>TV-14</td>\n",
       "      <td>111 min</td>\n",
       "      <td>Dramas, International Movies, Music &amp; Musicals</td>\n",
       "      <td>A scrappy but poor boy worms his way into a ty...</td>\n",
       "      <td>it doesnt contain live</td>\n",
       "    </tr>\n",
       "  </tbody>\n",
       "</table>\n",
       "<p>8807 rows × 13 columns</p>\n",
       "</div>"
      ],
      "text/plain": [
       "     show_id     type                  title         director  \\\n",
       "0         s1    Movie   Dick Johnson Is Dead  Kirsten Johnson   \n",
       "1         s2  TV Show          Blood & Water              NaN   \n",
       "2         s3  TV Show              Ganglands  Julien Leclercq   \n",
       "3         s4  TV Show  Jailbirds New Orleans              NaN   \n",
       "4         s5  TV Show           Kota Factory              NaN   \n",
       "...      ...      ...                    ...              ...   \n",
       "8802   s8803    Movie                 Zodiac    David Fincher   \n",
       "8803   s8804  TV Show            Zombie Dumb              NaN   \n",
       "8804   s8805    Movie             Zombieland  Ruben Fleischer   \n",
       "8805   s8806    Movie                   Zoom     Peter Hewitt   \n",
       "8806   s8807    Movie                 Zubaan      Mozez Singh   \n",
       "\n",
       "                                                   cast        country  \\\n",
       "0                                                   NaN  United States   \n",
       "1     Ama Qamata, Khosi Ngema, Gail Mabalane, Thaban...   South Africa   \n",
       "2     Sami Bouajila, Tracy Gotoas, Samuel Jouy, Nabi...            NaN   \n",
       "3                                                   NaN            NaN   \n",
       "4     Mayur More, Jitendra Kumar, Ranjan Raj, Alam K...          India   \n",
       "...                                                 ...            ...   \n",
       "8802  Mark Ruffalo, Jake Gyllenhaal, Robert Downey J...  United States   \n",
       "8803                                                NaN            NaN   \n",
       "8804  Jesse Eisenberg, Woody Harrelson, Emma Stone, ...  United States   \n",
       "8805  Tim Allen, Courteney Cox, Chevy Chase, Kate Ma...  United States   \n",
       "8806  Vicky Kaushal, Sarah-Jane Dias, Raaghav Chanan...          India   \n",
       "\n",
       "              date_added  release_year rating   duration  \\\n",
       "0     September 25, 2021          2020  PG-13     90 min   \n",
       "1     September 24, 2021          2021  TV-MA  2 Seasons   \n",
       "2     September 24, 2021          2021  TV-MA   1 Season   \n",
       "3     September 24, 2021          2021  TV-MA   1 Season   \n",
       "4     September 24, 2021          2021  TV-MA  2 Seasons   \n",
       "...                  ...           ...    ...        ...   \n",
       "8802   November 20, 2019          2007      R    158 min   \n",
       "8803        July 1, 2019          2018  TV-Y7  2 Seasons   \n",
       "8804    November 1, 2019          2009      R     88 min   \n",
       "8805    January 11, 2020          2006     PG     88 min   \n",
       "8806       March 2, 2019          2015  TV-14    111 min   \n",
       "\n",
       "                                              listed_in  \\\n",
       "0                                         Documentaries   \n",
       "1       International TV Shows, TV Dramas, TV Mysteries   \n",
       "2     Crime TV Shows, International TV Shows, TV Act...   \n",
       "3                                Docuseries, Reality TV   \n",
       "4     International TV Shows, Romantic TV Shows, TV ...   \n",
       "...                                                 ...   \n",
       "8802                     Cult Movies, Dramas, Thrillers   \n",
       "8803             Kids' TV, Korean TV Shows, TV Comedies   \n",
       "8804                            Comedies, Horror Movies   \n",
       "8805                 Children & Family Movies, Comedies   \n",
       "8806     Dramas, International Movies, Music & Musicals   \n",
       "\n",
       "                                            description  \\\n",
       "0     As her father nears the end of his life, filmm...   \n",
       "1     After crossing paths at a party, a Cape Town t...   \n",
       "2     To protect his family from a powerful drug lor...   \n",
       "3     Feuds, flirtations and toilet talk go down amo...   \n",
       "4     In a city of coaching centers known to train I...   \n",
       "...                                                 ...   \n",
       "8802  A political cartoonist, a crime reporter and a...   \n",
       "8803  While living alone in a spooky town, a young g...   \n",
       "8804  Looking to survive in a world taken over by zo...   \n",
       "8805  Dragged from civilian life, a former superhero...   \n",
       "8806  A scrappy but poor boy worms his way into a ty...   \n",
       "\n",
       "                       sortu  \n",
       "0     it doesnt contain live  \n",
       "1     it doesnt contain live  \n",
       "2     it doesnt contain live  \n",
       "3     it doesnt contain live  \n",
       "4     it doesnt contain live  \n",
       "...                      ...  \n",
       "8802  it doesnt contain live  \n",
       "8803  it doesnt contain live  \n",
       "8804  it doesnt contain live  \n",
       "8805  it doesnt contain live  \n",
       "8806  it doesnt contain live  \n",
       "\n",
       "[8807 rows x 13 columns]"
      ]
     },
     "execution_count": 91,
     "metadata": {},
     "output_type": "execute_result"
    }
   ],
   "source": [
    "pd.DataFrame(data)"
   ]
  },
  {
   "cell_type": "code",
   "execution_count": 95,
   "id": "4d0c0e26-a344-4712-918f-a5ea860178f9",
   "metadata": {},
   "outputs": [],
   "source": [
    "data.to_excel(\"netflix_titles.xlsx\", sheet_name = \"Data ki mkc\", index = False)"
   ]
  },
  {
   "cell_type": "code",
   "execution_count": 98,
   "id": "a12004e7-cf3c-49e4-81f7-81fb2c454a10",
   "metadata": {},
   "outputs": [
    {
     "data": {
      "text/plain": [
       "RangeIndex(start=0, stop=8807, step=1)"
      ]
     },
     "execution_count": 98,
     "metadata": {},
     "output_type": "execute_result"
    }
   ],
   "source": [
    "data.index"
   ]
  },
  {
   "cell_type": "code",
   "execution_count": 106,
   "id": "c126b8fa-74e0-4d3d-ae05-1479692d4ea6",
   "metadata": {},
   "outputs": [
    {
     "data": {
      "text/plain": [
       "type\n",
       "Movie      6132\n",
       "TV Show    2675\n",
       "dtype: int64"
      ]
     },
     "execution_count": 106,
     "metadata": {},
     "output_type": "execute_result"
    }
   ],
   "source": [
    "data.groupby('type').size()"
   ]
  },
  {
   "cell_type": "code",
   "execution_count": null,
   "id": "ff6124d9-ea2d-47f7-8c15-d4b1bd6d069e",
   "metadata": {},
   "outputs": [],
   "source": []
  },
  {
   "cell_type": "code",
   "execution_count": null,
   "id": "38a2cd84-a984-47b4-95b7-4c1054f49022",
   "metadata": {},
   "outputs": [],
   "source": []
  },
  {
   "cell_type": "code",
   "execution_count": null,
   "id": "889e7193-d7d2-44e7-af77-49bfc8ea7d57",
   "metadata": {},
   "outputs": [],
   "source": []
  }
 ],
 "metadata": {
  "kernelspec": {
   "display_name": "Python 3 (ipykernel)",
   "language": "python",
   "name": "python3"
  },
  "language_info": {
   "codemirror_mode": {
    "name": "ipython",
    "version": 3
   },
   "file_extension": ".py",
   "mimetype": "text/x-python",
   "name": "python",
   "nbconvert_exporter": "python",
   "pygments_lexer": "ipython3",
   "version": "3.13.0"
  }
 },
 "nbformat": 4,
 "nbformat_minor": 5
}
