{
 "cells": [
  {
   "attachments": {},
   "cell_type": "markdown",
   "id": "2657d682-a246-4422-8030-ce58d401d8b4",
   "metadata": {},
   "source": [
    "import numpy as np\n",
    "import pandas as pd\n",
    "\n",
    "Great! Based on the structure of your `netflix.csv` file, here are some **lab-style Pandas questions** that comprehensively cover important topics:\n",
    "\n",
    "---\n",
    "\n",
    "### ✅ **Pandas Questions on Netflix Dataset**\n",
    "\n",
    "#### 1. **Basic Exploration**\n",
    "\n",
    "* Q1. Load the dataset and show the first 5 rows.\n",
    "* Q2. Print the column names and their data types.\n",
    "* Q3. How many rows and columns are present in the dataset?\n",
    "* Q4. Show summary statistics for numeric columns.\n",
    "\n",
    "#### 2. **Data Selection & Filtering**\n",
    "\n",
    "* Q5. Display only the titles of all TV Shows.\n",
    "* Q6. Show all movies released in 2020.\n",
    "* Q7. List all records where the rating is `'TV-MA'`.\n",
    "\n",
    "#### 3. **Handling Missing Values**\n",
    "\n",
    "* Q8. Check for missing values in each column.\n",
    "* Q9. Fill all missing `director` names with `\"Not Available\"`.\n",
    "* Q10. Drop all rows where the `country` is missing.\n",
    "\n",
    "#### 4. **Sorting & Grouping**\n",
    "\n",
    "* Q11. Sort the dataset by `release_year` in descending order.\n",
    "* Q12. Group by `type` and count how many entries of each type exist.\n",
    "* Q13. Find the most common `rating` using value counts.\n",
    "\n",
    "#### 5. **Column Operations**\n",
    "\n",
    "* Q14. Create a new column called `content_category` where:\n",
    "\n",
    "  * If `type` is \"Movie\", it's \"Film\"\n",
    "  * If `type` is \"TV Show\", it's \"Series\"\n",
    "* Q15. Extract the year from `date_added` into a new column called `added_year`.\n",
    "\n",
    "#### 6. **Text Matching & String Operations**\n",
    "\n",
    "* Q16. Display all rows where `title` contains the word `\"Love\"`.\n",
    "* Q17. Count how many shows include `\"International\"` in `listed_in`.\n",
    "\n",
    "#### 7. **File Export**\n",
    "\n",
    "* Q18. Save the modified dataframe as `\"netflix_cleaned.csv\"` using `to_csv()`.\n",
    "\n",
    "---\n",
    "\n",
    "Would you like me to now answer these with actual **Python codes** using Pandas?\n"
   ]
  },
  {
   "cell_type": "markdown",
   "id": "3ae7ac89-97d8-413e-8041-a76c79ba18d5",
   "metadata": {},
   "source": [
    "## q1"
   ]
  },
  {
   "cell_type": "code",
   "execution_count": 4,
   "id": "ea01fc90-f648-408b-9e9c-c8870f925b0d",
   "metadata": {},
   "outputs": [
    {
     "data": {
      "text/html": [
       "<div>\n",
       "<style scoped>\n",
       "    .dataframe tbody tr th:only-of-type {\n",
       "        vertical-align: middle;\n",
       "    }\n",
       "\n",
       "    .dataframe tbody tr th {\n",
       "        vertical-align: top;\n",
       "    }\n",
       "\n",
       "    .dataframe thead th {\n",
       "        text-align: right;\n",
       "    }\n",
       "</style>\n",
       "<table border=\"1\" class=\"dataframe\">\n",
       "  <thead>\n",
       "    <tr style=\"text-align: right;\">\n",
       "      <th></th>\n",
       "      <th>show_id</th>\n",
       "      <th>type</th>\n",
       "      <th>title</th>\n",
       "      <th>director</th>\n",
       "      <th>cast</th>\n",
       "      <th>country</th>\n",
       "      <th>date_added</th>\n",
       "      <th>release_year</th>\n",
       "      <th>rating</th>\n",
       "      <th>duration</th>\n",
       "      <th>listed_in</th>\n",
       "      <th>description</th>\n",
       "    </tr>\n",
       "  </thead>\n",
       "  <tbody>\n",
       "    <tr>\n",
       "      <th>0</th>\n",
       "      <td>s1</td>\n",
       "      <td>Movie</td>\n",
       "      <td>Dick Johnson Is Dead</td>\n",
       "      <td>Kirsten Johnson</td>\n",
       "      <td>NaN</td>\n",
       "      <td>United States</td>\n",
       "      <td>September 25, 2021</td>\n",
       "      <td>2020</td>\n",
       "      <td>PG-13</td>\n",
       "      <td>90 min</td>\n",
       "      <td>Documentaries</td>\n",
       "      <td>As her father nears the end of his life, filmm...</td>\n",
       "    </tr>\n",
       "    <tr>\n",
       "      <th>1</th>\n",
       "      <td>s2</td>\n",
       "      <td>TV Show</td>\n",
       "      <td>Blood &amp; Water</td>\n",
       "      <td>NaN</td>\n",
       "      <td>Ama Qamata, Khosi Ngema, Gail Mabalane, Thaban...</td>\n",
       "      <td>South Africa</td>\n",
       "      <td>September 24, 2021</td>\n",
       "      <td>2021</td>\n",
       "      <td>TV-MA</td>\n",
       "      <td>2 Seasons</td>\n",
       "      <td>International TV Shows, TV Dramas, TV Mysteries</td>\n",
       "      <td>After crossing paths at a party, a Cape Town t...</td>\n",
       "    </tr>\n",
       "    <tr>\n",
       "      <th>2</th>\n",
       "      <td>s3</td>\n",
       "      <td>TV Show</td>\n",
       "      <td>Ganglands</td>\n",
       "      <td>Julien Leclercq</td>\n",
       "      <td>Sami Bouajila, Tracy Gotoas, Samuel Jouy, Nabi...</td>\n",
       "      <td>NaN</td>\n",
       "      <td>September 24, 2021</td>\n",
       "      <td>2021</td>\n",
       "      <td>TV-MA</td>\n",
       "      <td>1 Season</td>\n",
       "      <td>Crime TV Shows, International TV Shows, TV Act...</td>\n",
       "      <td>To protect his family from a powerful drug lor...</td>\n",
       "    </tr>\n",
       "    <tr>\n",
       "      <th>3</th>\n",
       "      <td>s4</td>\n",
       "      <td>TV Show</td>\n",
       "      <td>Jailbirds New Orleans</td>\n",
       "      <td>NaN</td>\n",
       "      <td>NaN</td>\n",
       "      <td>NaN</td>\n",
       "      <td>September 24, 2021</td>\n",
       "      <td>2021</td>\n",
       "      <td>TV-MA</td>\n",
       "      <td>1 Season</td>\n",
       "      <td>Docuseries, Reality TV</td>\n",
       "      <td>Feuds, flirtations and toilet talk go down amo...</td>\n",
       "    </tr>\n",
       "    <tr>\n",
       "      <th>4</th>\n",
       "      <td>s5</td>\n",
       "      <td>TV Show</td>\n",
       "      <td>Kota Factory</td>\n",
       "      <td>NaN</td>\n",
       "      <td>Mayur More, Jitendra Kumar, Ranjan Raj, Alam K...</td>\n",
       "      <td>India</td>\n",
       "      <td>September 24, 2021</td>\n",
       "      <td>2021</td>\n",
       "      <td>TV-MA</td>\n",
       "      <td>2 Seasons</td>\n",
       "      <td>International TV Shows, Romantic TV Shows, TV ...</td>\n",
       "      <td>In a city of coaching centers known to train I...</td>\n",
       "    </tr>\n",
       "  </tbody>\n",
       "</table>\n",
       "</div>"
      ],
      "text/plain": [
       "  show_id     type                  title         director  \\\n",
       "0      s1    Movie   Dick Johnson Is Dead  Kirsten Johnson   \n",
       "1      s2  TV Show          Blood & Water              NaN   \n",
       "2      s3  TV Show              Ganglands  Julien Leclercq   \n",
       "3      s4  TV Show  Jailbirds New Orleans              NaN   \n",
       "4      s5  TV Show           Kota Factory              NaN   \n",
       "\n",
       "                                                cast        country  \\\n",
       "0                                                NaN  United States   \n",
       "1  Ama Qamata, Khosi Ngema, Gail Mabalane, Thaban...   South Africa   \n",
       "2  Sami Bouajila, Tracy Gotoas, Samuel Jouy, Nabi...            NaN   \n",
       "3                                                NaN            NaN   \n",
       "4  Mayur More, Jitendra Kumar, Ranjan Raj, Alam K...          India   \n",
       "\n",
       "           date_added  release_year rating   duration  \\\n",
       "0  September 25, 2021          2020  PG-13     90 min   \n",
       "1  September 24, 2021          2021  TV-MA  2 Seasons   \n",
       "2  September 24, 2021          2021  TV-MA   1 Season   \n",
       "3  September 24, 2021          2021  TV-MA   1 Season   \n",
       "4  September 24, 2021          2021  TV-MA  2 Seasons   \n",
       "\n",
       "                                           listed_in  \\\n",
       "0                                      Documentaries   \n",
       "1    International TV Shows, TV Dramas, TV Mysteries   \n",
       "2  Crime TV Shows, International TV Shows, TV Act...   \n",
       "3                             Docuseries, Reality TV   \n",
       "4  International TV Shows, Romantic TV Shows, TV ...   \n",
       "\n",
       "                                         description  \n",
       "0  As her father nears the end of his life, filmm...  \n",
       "1  After crossing paths at a party, a Cape Town t...  \n",
       "2  To protect his family from a powerful drug lor...  \n",
       "3  Feuds, flirtations and toilet talk go down amo...  \n",
       "4  In a city of coaching centers known to train I...  "
      ]
     },
     "execution_count": 4,
     "metadata": {},
     "output_type": "execute_result"
    }
   ],
   "source": [
    "data = pd.read_csv(\"netflix_titles.csv\")\n",
    "data.head(5)"
   ]
  },
  {
   "cell_type": "code",
   "execution_count": 36,
   "id": "89e2a169-3348-4ff9-abda-09699ad5a947",
   "metadata": {},
   "outputs": [
    {
     "name": "stdout",
     "output_type": "stream",
     "text": [
      "12\n"
     ]
    },
    {
     "data": {
      "text/plain": [
       "show_id         object\n",
       "type            object\n",
       "title           object\n",
       "director        object\n",
       "cast            object\n",
       "country         object\n",
       "date_added      object\n",
       "release_year     int64\n",
       "rating          object\n",
       "duration        object\n",
       "listed_in       object\n",
       "description     object\n",
       "dtype: object"
      ]
     },
     "execution_count": 36,
     "metadata": {},
     "output_type": "execute_result"
    }
   ],
   "source": [
    "columns = data.shape[1]\n",
    "print (columns)\n",
    "data.dtypes"
   ]
  },
  {
   "cell_type": "code",
   "execution_count": 27,
   "id": "5235a662-1b74-4d14-9709-c78e898ecd3d",
   "metadata": {},
   "outputs": [
    {
     "data": {
      "text/html": [
       "<div>\n",
       "<style scoped>\n",
       "    .dataframe tbody tr th:only-of-type {\n",
       "        vertical-align: middle;\n",
       "    }\n",
       "\n",
       "    .dataframe tbody tr th {\n",
       "        vertical-align: top;\n",
       "    }\n",
       "\n",
       "    .dataframe thead th {\n",
       "        text-align: right;\n",
       "    }\n",
       "</style>\n",
       "<table border=\"1\" class=\"dataframe\">\n",
       "  <thead>\n",
       "    <tr style=\"text-align: right;\">\n",
       "      <th></th>\n",
       "      <th>release_year</th>\n",
       "    </tr>\n",
       "  </thead>\n",
       "  <tbody>\n",
       "    <tr>\n",
       "      <th>count</th>\n",
       "      <td>8807.000000</td>\n",
       "    </tr>\n",
       "    <tr>\n",
       "      <th>mean</th>\n",
       "      <td>2014.180198</td>\n",
       "    </tr>\n",
       "    <tr>\n",
       "      <th>std</th>\n",
       "      <td>8.819312</td>\n",
       "    </tr>\n",
       "    <tr>\n",
       "      <th>min</th>\n",
       "      <td>1925.000000</td>\n",
       "    </tr>\n",
       "    <tr>\n",
       "      <th>25%</th>\n",
       "      <td>2013.000000</td>\n",
       "    </tr>\n",
       "    <tr>\n",
       "      <th>50%</th>\n",
       "      <td>2017.000000</td>\n",
       "    </tr>\n",
       "    <tr>\n",
       "      <th>75%</th>\n",
       "      <td>2019.000000</td>\n",
       "    </tr>\n",
       "    <tr>\n",
       "      <th>max</th>\n",
       "      <td>2021.000000</td>\n",
       "    </tr>\n",
       "  </tbody>\n",
       "</table>\n",
       "</div>"
      ],
      "text/plain": [
       "       release_year\n",
       "count   8807.000000\n",
       "mean    2014.180198\n",
       "std        8.819312\n",
       "min     1925.000000\n",
       "25%     2013.000000\n",
       "50%     2017.000000\n",
       "75%     2019.000000\n",
       "max     2021.000000"
      ]
     },
     "execution_count": 27,
     "metadata": {},
     "output_type": "execute_result"
    }
   ],
   "source": [
    "data.describe()"
   ]
  },
  {
   "cell_type": "markdown",
   "id": "0972d409-0c9c-448d-9a40-ec25ac0522c5",
   "metadata": {},
   "source": [
    "## q2"
   ]
  },
  {
   "cell_type": "code",
   "execution_count": 42,
   "id": "397d5bcf-6fb0-4295-a936-4a4e72b6a71e",
   "metadata": {},
   "outputs": [
    {
     "name": "stdout",
     "output_type": "stream",
     "text": [
      "     show_id     type                  title         director  \\\n",
      "1         s2  TV Show          Blood & Water              NaN   \n",
      "2         s3  TV Show              Ganglands  Julien Leclercq   \n",
      "3         s4  TV Show  Jailbirds New Orleans              NaN   \n",
      "4         s5  TV Show           Kota Factory              NaN   \n",
      "5         s6  TV Show          Midnight Mass    Mike Flanagan   \n",
      "...      ...      ...                    ...              ...   \n",
      "8795   s8796  TV Show        Yu-Gi-Oh! Arc-V              NaN   \n",
      "8796   s8797  TV Show             Yunus Emre              NaN   \n",
      "8797   s8798  TV Show              Zak Storm              NaN   \n",
      "8800   s8801  TV Show     Zindagi Gulzar Hai              NaN   \n",
      "8803   s8804  TV Show            Zombie Dumb              NaN   \n",
      "\n",
      "                                                   cast  \\\n",
      "1     Ama Qamata, Khosi Ngema, Gail Mabalane, Thaban...   \n",
      "2     Sami Bouajila, Tracy Gotoas, Samuel Jouy, Nabi...   \n",
      "3                                                   NaN   \n",
      "4     Mayur More, Jitendra Kumar, Ranjan Raj, Alam K...   \n",
      "5     Kate Siegel, Zach Gilford, Hamish Linklater, H...   \n",
      "...                                                 ...   \n",
      "8795  Mike Liscio, Emily Bauer, Billy Bob Thompson, ...   \n",
      "8796  Gökhan Atalay, Payidar Tüfekçioglu, Baran Akbu...   \n",
      "8797  Michael Johnston, Jessica Gee-George, Christin...   \n",
      "8800  Sanam Saeed, Fawad Khan, Ayesha Omer, Mehreen ...   \n",
      "8803                                                NaN   \n",
      "\n",
      "                                            country          date_added  \\\n",
      "1                                      South Africa  September 24, 2021   \n",
      "2                                               NaN  September 24, 2021   \n",
      "3                                               NaN  September 24, 2021   \n",
      "4                                             India  September 24, 2021   \n",
      "5                                               NaN  September 24, 2021   \n",
      "...                                             ...                 ...   \n",
      "8795                                  Japan, Canada         May 1, 2018   \n",
      "8796                                         Turkey    January 17, 2017   \n",
      "8797  United States, France, South Korea, Indonesia  September 13, 2018   \n",
      "8800                                       Pakistan   December 15, 2016   \n",
      "8803                                            NaN        July 1, 2019   \n",
      "\n",
      "      release_year rating   duration  \\\n",
      "1             2021  TV-MA  2 Seasons   \n",
      "2             2021  TV-MA   1 Season   \n",
      "3             2021  TV-MA   1 Season   \n",
      "4             2021  TV-MA  2 Seasons   \n",
      "5             2021  TV-MA   1 Season   \n",
      "...            ...    ...        ...   \n",
      "8795          2015  TV-Y7  2 Seasons   \n",
      "8796          2016  TV-PG  2 Seasons   \n",
      "8797          2016  TV-Y7  3 Seasons   \n",
      "8800          2012  TV-PG   1 Season   \n",
      "8803          2018  TV-Y7  2 Seasons   \n",
      "\n",
      "                                              listed_in  \\\n",
      "1       International TV Shows, TV Dramas, TV Mysteries   \n",
      "2     Crime TV Shows, International TV Shows, TV Act...   \n",
      "3                                Docuseries, Reality TV   \n",
      "4     International TV Shows, Romantic TV Shows, TV ...   \n",
      "5                    TV Dramas, TV Horror, TV Mysteries   \n",
      "...                                                 ...   \n",
      "8795                             Anime Series, Kids' TV   \n",
      "8796                  International TV Shows, TV Dramas   \n",
      "8797                                           Kids' TV   \n",
      "8800  International TV Shows, Romantic TV Shows, TV ...   \n",
      "8803             Kids' TV, Korean TV Shows, TV Comedies   \n",
      "\n",
      "                                            description  \n",
      "1     After crossing paths at a party, a Cape Town t...  \n",
      "2     To protect his family from a powerful drug lor...  \n",
      "3     Feuds, flirtations and toilet talk go down amo...  \n",
      "4     In a city of coaching centers known to train I...  \n",
      "5     The arrival of a charismatic young priest brin...  \n",
      "...                                                 ...  \n",
      "8795  Now that he's discovered the Pendulum Summonin...  \n",
      "8796  During the Mongol invasions, Yunus Emre leaves...  \n",
      "8797  Teen surfer Zak Storm is mysteriously transpor...  \n",
      "8800  Strong-willed, middle-class Kashaf and carefre...  \n",
      "8803  While living alone in a spooky town, a young g...  \n",
      "\n",
      "[2675 rows x 12 columns]\n"
     ]
    }
   ],
   "source": [
    "dispaly = data[\n",
    "(data[\"type\"]== \"TV Show\") &\n",
    "(data[\"title\"])\n",
    "]\n",
    "print (dispaly)"
   ]
  },
  {
   "cell_type": "markdown",
   "id": "f9409f73-920a-42b3-a9ea-7a40038b3d25",
   "metadata": {},
   "source": [
    "Show all movies released in 2020."
   ]
  },
  {
   "cell_type": "code",
   "execution_count": 46,
   "id": "f38c3a09-270a-4b5b-9bde-30a2338b0018",
   "metadata": {},
   "outputs": [
    {
     "name": "stdout",
     "output_type": "stream",
     "text": [
      "     show_id   type                                              title  \\\n",
      "0         s1  Movie                               Dick Johnson Is Dead   \n",
      "16       s17  Movie  Europe's Most Dangerous Man: Otto Skorzeny in ...   \n",
      "78       s79  Movie                                     Tughlaq Durbar   \n",
      "84       s85  Movie                               Omo Ghetto: the Saga   \n",
      "103     s104  Movie                                     Shadow Parties   \n",
      "...      ...    ...                                                ...   \n",
      "3046   s3047  Movie                      All the Freckles in the World   \n",
      "3060   s3061  Movie                                      Ghost Stories   \n",
      "5972   s5973  Movie                                   #cats_the_mewvie   \n",
      "7594   s7595  Movie                 Norm of the North: Family Vacation   \n",
      "8099   s8100  Movie                                        Straight Up   \n",
      "\n",
      "                                               director  \\\n",
      "0                                       Kirsten Johnson   \n",
      "16        Pedro de Echave García, Pablo Azorín Williams   \n",
      "78                             Delhiprasad Deenadayalan   \n",
      "84                           JJC Skillz, Funke Akindele   \n",
      "103                                          Yemi Amodu   \n",
      "...                                                 ...   \n",
      "3046                                       Yibrán Asuad   \n",
      "3060  Anurag Kashyap, Dibakar Banerjee, Karan Johar,...   \n",
      "5972                                   Michael Margolis   \n",
      "7594                                       Anthony Bell   \n",
      "8099                                      James Sweeney   \n",
      "\n",
      "                                                   cast        country  \\\n",
      "0                                                   NaN  United States   \n",
      "16                                                  NaN            NaN   \n",
      "78           Vijay Sethupathi, Parthiban, Raashi Khanna            NaN   \n",
      "84    Funke Akindele, Ayo Makun, Chioma Chukwuka Akp...        Nigeria   \n",
      "103   Jide Kosoko, Omotola Jalade-Ekeinde, Yemi Blaq...            NaN   \n",
      "...                                                 ...            ...   \n",
      "3046  Hánssel Casillas, Loreto Peralta, Andrea Sutto...         Mexico   \n",
      "3060  Janhvi Kapoor, Sobhita Dhulipala, Sukant Goel,...          India   \n",
      "5972                                                NaN         Canada   \n",
      "7594  Andrew Toth, Lisa Durupt, Jonathan Holmes, Pau...  United States   \n",
      "8099  James Sweeney, Katie Findlay, Randall Park, Hi...  United States   \n",
      "\n",
      "              date_added  release_year rating duration  \\\n",
      "0     September 25, 2021          2020  PG-13   90 min   \n",
      "16    September 22, 2021          2020  TV-MA   67 min   \n",
      "78    September 11, 2021          2020  TV-14  145 min   \n",
      "84    September 10, 2021          2020  TV-MA  147 min   \n",
      "103    September 6, 2021          2020  TV-MA  117 min   \n",
      "...                  ...           ...    ...      ...   \n",
      "3046     January 3, 2020          2020  TV-14   90 min   \n",
      "3060     January 1, 2020          2020  TV-MA  145 min   \n",
      "5972    February 5, 2020          2020  TV-14   90 min   \n",
      "7594        May 25, 2020          2020  TV-Y7   89 min   \n",
      "8099       June 26, 2020          2020  TV-MA   96 min   \n",
      "\n",
      "                                            listed_in  \\\n",
      "0                                       Documentaries   \n",
      "16                Documentaries, International Movies   \n",
      "78             Comedies, Dramas, International Movies   \n",
      "84               Action & Adventure, Comedies, Dramas   \n",
      "103           Dramas, International Movies, Thrillers   \n",
      "...                                               ...   \n",
      "3046  Comedies, International Movies, Romantic Movies   \n",
      "3060   Horror Movies, International Movies, Thrillers   \n",
      "5972              Documentaries, International Movies   \n",
      "7594                         Children & Family Movies   \n",
      "8099       Comedies, Independent Movies, LGBTQ Movies   \n",
      "\n",
      "                                            description  \n",
      "0     As her father nears the end of his life, filmm...  \n",
      "16    Declassified documents reveal the post-WWII li...  \n",
      "78    A budding politician has devious plans to rise...  \n",
      "84    Twins are reunited as a good-hearted female ga...  \n",
      "103   A family faces destruction in a long-running c...  \n",
      "...                                                 ...  \n",
      "3046  Thirteen-year-old José Miguel is immune to 199...  \n",
      "3060  The directors of Emmy-nominated \"Lust Stories\"...  \n",
      "5972  This pawesome documentary explores how our fel...  \n",
      "7594  Stressed by his duties as king and father, Nor...  \n",
      "8099  When a gay brainiac with OCD questions his ide...  \n",
      "\n",
      "[517 rows x 12 columns]\n"
     ]
    }
   ],
   "source": [
    "movies = data[\n",
    "(data['release_year'] == 2020) &\n",
    "(data['type'] == 'Movie') \n",
    "]\n",
    "print (movies)\n"
   ]
  },
  {
   "cell_type": "code",
   "execution_count": 49,
   "id": "590c1ef2-7c72-4c64-b334-12e3ed10ef9a",
   "metadata": {},
   "outputs": [
    {
     "name": "stdout",
     "output_type": "stream",
     "text": [
      "                       title     type\n",
      "1              Blood & Water  TV Show\n",
      "2                  Ganglands  TV Show\n",
      "3      Jailbirds New Orleans  TV Show\n",
      "4               Kota Factory  TV Show\n",
      "5              Midnight Mass  TV Show\n",
      "...                      ...      ...\n",
      "8762         Wrong Side Raju    Movie\n",
      "8769  Y.M.I.: Yeh Mera India    Movie\n",
      "8788            You Carry Me    Movie\n",
      "8798                Zed Plus    Movie\n",
      "8801                 Zinzana    Movie\n",
      "\n",
      "[3207 rows x 2 columns]\n"
     ]
    }
   ],
   "source": [
    "ratings = data[\n",
    "(data['rating']== 'TV-MA') \n",
    "]\n",
    "\n",
    "print (ratings[['title', 'type']])"
   ]
  },
  {
   "cell_type": "code",
   "execution_count": 52,
   "id": "708e2303-a20e-44a8-8c50-44f4c9a50d39",
   "metadata": {},
   "outputs": [
    {
     "data": {
      "text/plain": [
       "show_id            0\n",
       "type               0\n",
       "title              0\n",
       "director        2634\n",
       "cast             825\n",
       "country          831\n",
       "date_added        10\n",
       "release_year       0\n",
       "rating             4\n",
       "duration           3\n",
       "listed_in          0\n",
       "description        0\n",
       "dtype: int64"
      ]
     },
     "execution_count": 52,
     "metadata": {},
     "output_type": "execute_result"
    }
   ],
   "source": [
    "data.isnull().sum()"
   ]
  },
  {
   "cell_type": "code",
   "execution_count": 57,
   "id": "a7a66407-cc37-4933-9be9-e304e0ea3c31",
   "metadata": {},
   "outputs": [],
   "source": [
    "data[\"director\"]= data[\"director\"].fillna(\"Not available\")"
   ]
  },
  {
   "cell_type": "code",
   "execution_count": 58,
   "id": "532d94f5-372a-4650-8ccd-39b90320d385",
   "metadata": {},
   "outputs": [
    {
     "data": {
      "text/plain": [
       "0       Kirsten Johnson\n",
       "1         Not Available\n",
       "2       Julien Leclercq\n",
       "3         Not Available\n",
       "4         Not Available\n",
       "             ...       \n",
       "8802      David Fincher\n",
       "8803      Not Available\n",
       "8804    Ruben Fleischer\n",
       "8805       Peter Hewitt\n",
       "8806        Mozez Singh\n",
       "Name: director, Length: 8807, dtype: object"
      ]
     },
     "execution_count": 58,
     "metadata": {},
     "output_type": "execute_result"
    }
   ],
   "source": [
    "data[\"director\"]"
   ]
  },
  {
   "cell_type": "markdown",
   "id": "7a5d1a9e-42f3-4fab-bb1f-1390b35483d3",
   "metadata": {},
   "source": [
    "Drop all rows where the country is missing."
   ]
  },
  {
   "cell_type": "code",
   "execution_count": 59,
   "id": "8d295271-81e7-4455-80d3-8862b87d1381",
   "metadata": {},
   "outputs": [
    {
     "data": {
      "text/plain": [
       "0                                           United States\n",
       "1                                            South Africa\n",
       "4                                                   India\n",
       "7       United States, Ghana, Burkina Faso, United Kin...\n",
       "8                                          United Kingdom\n",
       "                              ...                        \n",
       "8801                         United Arab Emirates, Jordan\n",
       "8802                                        United States\n",
       "8804                                        United States\n",
       "8805                                        United States\n",
       "8806                                                India\n",
       "Name: country, Length: 7976, dtype: object"
      ]
     },
     "execution_count": 59,
     "metadata": {},
     "output_type": "execute_result"
    }
   ],
   "source": [
    "data[\"country\"].dropna()"
   ]
  },
  {
   "cell_type": "markdown",
   "id": "5fd22c24-fdc9-4817-957d-e437084b4a97",
   "metadata": {},
   "source": [
    "Sort the dataset by release_year in descending order."
   ]
  },
  {
   "cell_type": "code",
   "execution_count": 60,
   "id": "df413fda-56ea-41dc-bf7d-00f64b007c6d",
   "metadata": {},
   "outputs": [
    {
     "data": {
      "text/plain": [
       "1       2021\n",
       "2       2021\n",
       "3       2021\n",
       "31      2021\n",
       "30      2021\n",
       "        ... \n",
       "8739    1943\n",
       "8660    1943\n",
       "7790    1942\n",
       "8205    1942\n",
       "4250    1925\n",
       "Name: release_year, Length: 8807, dtype: int64"
      ]
     },
     "execution_count": 60,
     "metadata": {},
     "output_type": "execute_result"
    }
   ],
   "source": [
    "data[\"release_year\"].sort_values(ascending = False)"
   ]
  },
  {
   "cell_type": "code",
   "execution_count": 63,
   "id": "7db61446-d863-41e7-841e-9b293162987b",
   "metadata": {},
   "outputs": [
    {
     "name": "stdout",
     "output_type": "stream",
     "text": [
      "     show_id     type                                          title  \\\n",
      "1380   s1381  TV Show                                      Go Dog Go   \n",
      "68       s69    Movie                                     Schumacher   \n",
      "1         s2  TV Show                                  Blood & Water   \n",
      "2         s3  TV Show                                      Ganglands   \n",
      "3         s4  TV Show                          Jailbirds New Orleans   \n",
      "...      ...      ...                                            ...   \n",
      "8739   s8740    Movie             Why We Fight: The Battle of Russia   \n",
      "8660   s8661    Movie  Undercover: How to Operate Behind Enemy Lines   \n",
      "7790   s7791    Movie                                 Prelude to War   \n",
      "8205   s8206    Movie                           The Battle of Midway   \n",
      "4250   s4251  TV Show              Pioneers: First Women Filmmakers*   \n",
      "\n",
      "                                               director  \\\n",
      "1380                                      Not Available   \n",
      "68    Hanns-Bruno Kammertöns, Vanessa Nöcker, Michae...   \n",
      "1                                         Not Available   \n",
      "2                                       Julien Leclercq   \n",
      "3                                         Not Available   \n",
      "...                                                 ...   \n",
      "8739                        Frank Capra, Anatole Litvak   \n",
      "8660                                          John Ford   \n",
      "7790                                        Frank Capra   \n",
      "8205                                          John Ford   \n",
      "4250                                      Not Available   \n",
      "\n",
      "                                                   cast  \\\n",
      "1380  Michela Luci, Callum Shoniker, Lyon Smith, Taj...   \n",
      "68                                   Michael Schumacher   \n",
      "1     Ama Qamata, Khosi Ngema, Gail Mabalane, Thaban...   \n",
      "2     Sami Bouajila, Tracy Gotoas, Samuel Jouy, Nabi...   \n",
      "3                                                   NaN   \n",
      "...                                                 ...   \n",
      "8739                                                NaN   \n",
      "8660                                                NaN   \n",
      "7790                                                NaN   \n",
      "8205                          Henry Fonda, Jane Darwell   \n",
      "4250                                                NaN   \n",
      "\n",
      "                            country          date_added  release_year rating  \\\n",
      "1380  United States, United Kingdom    January 26, 2021          2021   TV-Y   \n",
      "68                              NaN  September 15, 2021          2021  TV-14   \n",
      "1                      South Africa  September 24, 2021          2021  TV-MA   \n",
      "2                               NaN  September 24, 2021          2021  TV-MA   \n",
      "3                               NaN  September 24, 2021          2021  TV-MA   \n",
      "...                             ...                 ...           ...    ...   \n",
      "8739                  United States      March 31, 2017          1943  TV-PG   \n",
      "8660                  United States      March 31, 2017          1943  TV-PG   \n",
      "7790                  United States      March 31, 2017          1942  TV-14   \n",
      "8205                  United States      March 31, 2017          1942  TV-14   \n",
      "4250                            NaN   December 30, 2018          1925  TV-14   \n",
      "\n",
      "       duration                                          listed_in  \\\n",
      "1380   1 Season                                           Kids' TV   \n",
      "68      113 min  Documentaries, International Movies, Sports Mo...   \n",
      "1     2 Seasons    International TV Shows, TV Dramas, TV Mysteries   \n",
      "2      1 Season  Crime TV Shows, International TV Shows, TV Act...   \n",
      "3      1 Season                             Docuseries, Reality TV   \n",
      "...         ...                                                ...   \n",
      "8739     82 min                                      Documentaries   \n",
      "8660     61 min                      Classic Movies, Documentaries   \n",
      "7790     52 min                      Classic Movies, Documentaries   \n",
      "8205     18 min                      Classic Movies, Documentaries   \n",
      "4250   1 Season                                           TV Shows   \n",
      "\n",
      "                                            description  \n",
      "1380  Handy and inventive pup Tag chases adventure w...  \n",
      "68    Through exclusive interviews and archival foot...  \n",
      "1     After crossing paths at a party, a Cape Town t...  \n",
      "2     To protect his family from a powerful drug lor...  \n",
      "3     Feuds, flirtations and toilet talk go down amo...  \n",
      "...                                                 ...  \n",
      "8739  This installment of Frank Capra's acclaimed do...  \n",
      "8660  This World War II-era training film dramatizes...  \n",
      "7790  Frank Capra's documentary chronicles the rise ...  \n",
      "8205  Director John Ford captures combat footage of ...  \n",
      "4250  This collection restores films from women who ...  \n",
      "\n",
      "[8807 rows x 12 columns]\n"
     ]
    }
   ],
   "source": [
    "data = data.sort_values(by=\"release_year\", ascending=False)\n",
    "print (data)"
   ]
  },
  {
   "cell_type": "markdown",
   "id": "888ce382-0740-4830-9846-c0f2fbcee701",
   "metadata": {},
   "source": [
    " Group by type and count how many entries of each type exist."
   ]
  },
  {
   "cell_type": "code",
   "execution_count": 69,
   "id": "ae6f3df0-5c84-4d97-aecd-a925be57268b",
   "metadata": {},
   "outputs": [
    {
     "name": "stdout",
     "output_type": "stream",
     "text": [
      "type\n",
      "Movie      6132\n",
      "TV Show    2675\n",
      "dtype: int64\n"
     ]
    }
   ],
   "source": [
    "type_count = data.groupby(\"type\").size()\n",
    "print (type_count)"
   ]
  },
  {
   "cell_type": "markdown",
   "id": "ded3206e-3db8-4fba-a38a-1ac43b202a94",
   "metadata": {},
   "source": [
    "Find the most common rating using value counts."
   ]
  },
  {
   "cell_type": "code",
   "execution_count": 75,
   "id": "37e4be0d-e141-4977-9cf8-2f793c4f09f2",
   "metadata": {},
   "outputs": [
    {
     "data": {
      "text/plain": [
       "rating\n",
       "TV-MA    3207\n",
       "Name: count, dtype: int64"
      ]
     },
     "execution_count": 75,
     "metadata": {},
     "output_type": "execute_result"
    }
   ],
   "source": [
    "common = data[\"rating\"].value_counts().head(1)\n",
    "common"
   ]
  },
  {
   "cell_type": "markdown",
   "id": "17a637ef-4073-449d-9524-e43128daf54c",
   "metadata": {},
   "source": [
    "Create a new column called content_category where:\n",
    "\n",
    "If type is \"Movie\", it's \"Film\"\n",
    "If type is \"TV Show\", it's \"Series\""
   ]
  },
  {
   "cell_type": "code",
   "execution_count": 80,
   "id": "e4620ad5-5945-4b24-8b78-be4c89e406b1",
   "metadata": {},
   "outputs": [],
   "source": [
    "data[\"content_category\"] = data[\"type\"].apply(\n",
    "    lambda x : \"It is a movie\" if x == \"Movie\" else \"It is a series\"\n",
    ")"
   ]
  },
  {
   "cell_type": "code",
   "execution_count": 82,
   "id": "15e8d4af-3a9c-4dcb-a087-657433ddcb27",
   "metadata": {},
   "outputs": [
    {
     "name": "stdout",
     "output_type": "stream",
     "text": [
      "1380    It is a series\n",
      "68       It is a movie\n",
      "1       It is a series\n",
      "2       It is a series\n",
      "3       It is a series\n",
      "             ...      \n",
      "8739     It is a movie\n",
      "8660     It is a movie\n",
      "7790     It is a movie\n",
      "8205     It is a movie\n",
      "4250    It is a series\n",
      "Name: content_category, Length: 8807, dtype: object\n"
     ]
    }
   ],
   "source": [
    "print (data['content_category'])"
   ]
  },
  {
   "cell_type": "markdown",
   "id": "124cad42-1bcb-4a36-83e0-8c00d52bdb62",
   "metadata": {},
   "source": [
    "Extract the year from date_added into a new column called added_year."
   ]
  },
  {
   "cell_type": "code",
   "execution_count": null,
   "id": "6bb9a613-9fab-4106-a7ca-291c8ccd5e36",
   "metadata": {},
   "outputs": [],
   "source": [
    "data\"] = "
   ]
  }
 ],
 "metadata": {
  "kernelspec": {
   "display_name": "Python 3 (ipykernel)",
   "language": "python",
   "name": "python3"
  },
  "language_info": {
   "codemirror_mode": {
    "name": "ipython",
    "version": 3
   },
   "file_extension": ".py",
   "mimetype": "text/x-python",
   "name": "python",
   "nbconvert_exporter": "python",
   "pygments_lexer": "ipython3",
   "version": "3.13.0"
  }
 },
 "nbformat": 4,
 "nbformat_minor": 5
}
