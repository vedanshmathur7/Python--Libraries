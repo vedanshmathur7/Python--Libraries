{
 "cells": [
  {
   "cell_type": "markdown",
   "id": "8a77807f92f26ee",
   "metadata": {},
   "source": []
  },
  {
   "cell_type": "code",
   "execution_count": 1,
   "id": "fbc121e30a2defb3",
   "metadata": {
    "ExecuteTime": {
     "end_time": "2025-03-29T21:10:32.264824Z",
     "start_time": "2025-03-29T21:10:32.251505Z"
    }
   },
   "outputs": [
    {
     "name": "stdout",
     "output_type": "stream",
     "text": [
      "Hello World!\n"
     ]
    }
   ],
   "source": [
    "print(\"Hello World!\")\n"
   ]
  },
  {
   "cell_type": "code",
   "execution_count": 2,
   "id": "88a47f9d7f2f4b6d",
   "metadata": {
    "ExecuteTime": {
     "end_time": "2025-03-29T21:11:42.207957Z",
     "start_time": "2025-03-29T21:11:40.551741Z"
    }
   },
   "outputs": [
    {
     "name": "stdout",
     "output_type": "stream",
     "text": [
      "Requirement already satisfied: pandas in c:\\users\\vedan\\appdata\\local\\programs\\python\\python313\\lib\\site-packages (2.2.3)\n",
      "Requirement already satisfied: numpy>=1.26.0 in c:\\users\\vedan\\appdata\\local\\programs\\python\\python313\\lib\\site-packages (from pandas) (2.2.1)\n",
      "Requirement already satisfied: python-dateutil>=2.8.2 in c:\\users\\vedan\\appdata\\local\\programs\\python\\python313\\lib\\site-packages (from pandas) (2.9.0.post0)\n",
      "Requirement already satisfied: pytz>=2020.1 in c:\\users\\vedan\\appdata\\local\\programs\\python\\python313\\lib\\site-packages (from pandas) (2024.2)\n",
      "Requirement already satisfied: tzdata>=2022.7 in c:\\users\\vedan\\appdata\\local\\programs\\python\\python313\\lib\\site-packages (from pandas) (2024.2)\n",
      "Requirement already satisfied: six>=1.5 in c:\\users\\vedan\\appdata\\local\\programs\\python\\python313\\lib\\site-packages (from python-dateutil>=2.8.2->pandas) (1.17.0)\n"
     ]
    },
    {
     "name": "stderr",
     "output_type": "stream",
     "text": [
      "\n",
      "[notice] A new release of pip is available: 24.3.1 -> 25.0.1\n",
      "[notice] To update, run: C:\\Users\\vedan\\AppData\\Local\\Programs\\Python\\Python313\\python.exe -m pip install --upgrade pip\n"
     ]
    }
   ],
   "source": [
    "\n",
    "!pip install pandas"
   ]
  },
  {
   "cell_type": "code",
   "execution_count": 3,
   "id": "c0637554884d7722",
   "metadata": {
    "ExecuteTime": {
     "end_time": "2025-04-23T18:51:03.748600Z",
     "start_time": "2025-04-23T18:51:03.740569Z"
    }
   },
   "outputs": [],
   "source": [
    "import pandas as pd\n",
    "import numpy as np"
   ]
  },
  {
   "cell_type": "code",
   "execution_count": 4,
   "id": "529d7d2d6ca3e35c",
   "metadata": {
    "ExecuteTime": {
     "end_time": "2025-04-23T18:49:53.584352Z",
     "start_time": "2025-04-23T18:49:53.572240Z"
    }
   },
   "outputs": [],
   "source": [
    "labels = [\"vedansh\", \"tejaswi\", \"vishal\"]"
   ]
  },
  {
   "cell_type": "code",
   "execution_count": 5,
   "id": "893cc1f7a0e408ac",
   "metadata": {
    "ExecuteTime": {
     "end_time": "2025-04-23T18:50:23.011325Z",
     "start_time": "2025-04-23T18:50:23.004757Z"
    }
   },
   "outputs": [],
   "source": [
    "my_list = [88, 99,85]"
   ]
  },
  {
   "cell_type": "code",
   "execution_count": 6,
   "id": "6bdb94dc24769a16",
   "metadata": {},
   "outputs": [],
   "source": [
    "arr = np.array(my_list)"
   ]
  },
  {
   "cell_type": "code",
   "execution_count": 9,
   "id": "c059fcf4-f3c5-4970-8cf4-07c01073c5ed",
   "metadata": {},
   "outputs": [
    {
     "data": {
      "text/plain": [
       "vedansh    88\n",
       "tejaswi    99\n",
       "vishal     85\n",
       "dtype: int64"
      ]
     },
     "execution_count": 9,
     "metadata": {},
     "output_type": "execute_result"
    }
   ],
   "source": [
    "pd.Series(data= my_list, index = labels)"
   ]
  },
  {
   "cell_type": "code",
   "execution_count": 10,
   "id": "dbc61e07-fc2d-4e05-ab8b-d4c07f60b63b",
   "metadata": {},
   "outputs": [
    {
     "data": {
      "text/plain": [
       "88    vedansh\n",
       "99    tejaswi\n",
       "85     vishal\n",
       "dtype: object"
      ]
     },
     "execution_count": 10,
     "metadata": {},
     "output_type": "execute_result"
    }
   ],
   "source": [
    "pd.Series(labels, my_list)"
   ]
  },
  {
   "cell_type": "code",
   "execution_count": 11,
   "id": "977ae427-5fce-4723-a536-4f0e3bf893a8",
   "metadata": {},
   "outputs": [
    {
     "data": {
      "text/plain": [
       "0    vedansh\n",
       "1    tejaswi\n",
       "2     vishal\n",
       "dtype: object"
      ]
     },
     "execution_count": 11,
     "metadata": {},
     "output_type": "execute_result"
    }
   ],
   "source": [
    "pd.Series(labels)"
   ]
  },
  {
   "cell_type": "code",
   "execution_count": 13,
   "id": "0670919e-e7c9-4e69-95f5-9ce520a17752",
   "metadata": {},
   "outputs": [
    {
     "data": {
      "text/plain": [
       "0    88\n",
       "1    99\n",
       "2    85\n",
       "dtype: int64"
      ]
     },
     "execution_count": 13,
     "metadata": {},
     "output_type": "execute_result"
    }
   ],
   "source": [
    "pd.Series(my_list)"
   ]
  },
  {
   "cell_type": "code",
   "execution_count": 14,
   "id": "834559e6-1dc7-4702-ab3d-1ef4721bf1a5",
   "metadata": {},
   "outputs": [
    {
     "name": "stdout",
     "output_type": "stream",
     "text": [
      "      Name  Age     City\n",
      "0    Alice   25    Delhi\n",
      "1      Bob   30   Mumbai\n",
      "2  Charlie   35  Chennai\n"
     ]
    }
   ],
   "source": [
    "import pandas as pd\n",
    "\n",
    "data = {\n",
    "    'Name': ['Alice', 'Bob', 'Charlie'],\n",
    "    'Age': [25, 30, 35],\n",
    "    'City': ['Delhi', 'Mumbai', 'Chennai']\n",
    "}\n",
    "\n",
    "df = pd.DataFrame(data)\n",
    "print(df)\n"
   ]
  },
  {
   "cell_type": "code",
   "execution_count": 16,
   "id": "701afbf4-25b3-47d8-9545-a5c30454ec01",
   "metadata": {},
   "outputs": [],
   "source": [
    "rajesh = {\n",
    "    \"Product\" : [\"sabun\", \"shampoo\", \"towel\"],\n",
    "    \"Price\" : [56, 89, 88],\n",
    "    \"Quantity\" : [2, 5, 6]\n",
    "}"
   ]
  },
  {
   "cell_type": "code",
   "execution_count": 17,
   "id": "f9348d0c-3192-46cf-b9b7-34ed08b9e487",
   "metadata": {},
   "outputs": [
    {
     "data": {
      "text/html": [
       "<div>\n",
       "<style scoped>\n",
       "    .dataframe tbody tr th:only-of-type {\n",
       "        vertical-align: middle;\n",
       "    }\n",
       "\n",
       "    .dataframe tbody tr th {\n",
       "        vertical-align: top;\n",
       "    }\n",
       "\n",
       "    .dataframe thead th {\n",
       "        text-align: right;\n",
       "    }\n",
       "</style>\n",
       "<table border=\"1\" class=\"dataframe\">\n",
       "  <thead>\n",
       "    <tr style=\"text-align: right;\">\n",
       "      <th></th>\n",
       "      <th>Product</th>\n",
       "      <th>Price</th>\n",
       "      <th>Quantity</th>\n",
       "    </tr>\n",
       "  </thead>\n",
       "  <tbody>\n",
       "    <tr>\n",
       "      <th>0</th>\n",
       "      <td>sabun</td>\n",
       "      <td>56</td>\n",
       "      <td>2</td>\n",
       "    </tr>\n",
       "    <tr>\n",
       "      <th>1</th>\n",
       "      <td>shampoo</td>\n",
       "      <td>89</td>\n",
       "      <td>5</td>\n",
       "    </tr>\n",
       "    <tr>\n",
       "      <th>2</th>\n",
       "      <td>towel</td>\n",
       "      <td>88</td>\n",
       "      <td>6</td>\n",
       "    </tr>\n",
       "  </tbody>\n",
       "</table>\n",
       "</div>"
      ],
      "text/plain": [
       "   Product  Price  Quantity\n",
       "0    sabun     56         2\n",
       "1  shampoo     89         5\n",
       "2    towel     88         6"
      ]
     },
     "execution_count": 17,
     "metadata": {},
     "output_type": "execute_result"
    }
   ],
   "source": [
    "pd.DataFrame(rajesh)"
   ]
  },
  {
   "cell_type": "code",
   "execution_count": 18,
   "id": "6703c852-d0c3-4fbc-a731-1eb7586a6e83",
   "metadata": {},
   "outputs": [
    {
     "name": "stdout",
     "output_type": "stream",
     "text": [
      "0    10\n",
      "1    20\n",
      "2    30\n",
      "3    40\n",
      "dtype: int64\n"
     ]
    }
   ],
   "source": [
    "import pandas as pd\n",
    "\n",
    "data = [10, 20, 30, 40]\n",
    "s = pd.Series(data)\n",
    "print(s)\n"
   ]
  },
  {
   "cell_type": "code",
   "execution_count": 20,
   "id": "4f9382ea-90a2-4c0e-be85-ade50fa102ce",
   "metadata": {},
   "outputs": [
    {
     "data": {
      "text/plain": [
       "a    10\n",
       "b    20\n",
       "c    30\n",
       "d    40\n",
       "dtype: int64"
      ]
     },
     "execution_count": 20,
     "metadata": {},
     "output_type": "execute_result"
    }
   ],
   "source": [
    "pd.Series(data, index = [\"a\", \"b\", \"c\", \"d\"])"
   ]
  },
  {
   "cell_type": "code",
   "execution_count": 21,
   "id": "1500f714-91d0-4f98-bca2-d1200897acab",
   "metadata": {},
   "outputs": [
    {
     "name": "stdout",
     "output_type": "stream",
     "text": [
      "a    100\n",
      "b    200\n",
      "c    300\n",
      "dtype: int64\n"
     ]
    }
   ],
   "source": [
    "data = {'a': 100, 'b': 200, 'c': 300}\n",
    "s = pd.Series(data)\n",
    "print(s)\n"
   ]
  },
  {
   "cell_type": "code",
   "execution_count": 23,
   "id": "b9ac17ad-2919-42d0-b8fd-c33d2b536a97",
   "metadata": {},
   "outputs": [
    {
     "name": "stdout",
     "output_type": "stream",
     "text": [
      "100\n"
     ]
    },
    {
     "name": "stderr",
     "output_type": "stream",
     "text": [
      "C:\\Users\\vedan\\AppData\\Local\\Temp\\ipykernel_19752\\3670943538.py:1: FutureWarning: Series.__getitem__ treating keys as positions is deprecated. In a future version, integer keys will always be treated as labels (consistent with DataFrame behavior). To access a value by position, use `ser.iloc[pos]`\n",
      "  print (s[0])\n"
     ]
    }
   ],
   "source": [
    "print (s[0])"
   ]
  },
  {
   "cell_type": "code",
   "execution_count": 24,
   "id": "c8e1a404-8272-46be-95f2-f1b7bf74ac9c",
   "metadata": {},
   "outputs": [
    {
     "name": "stdout",
     "output_type": "stream",
     "text": [
      "200\n"
     ]
    },
    {
     "name": "stderr",
     "output_type": "stream",
     "text": [
      "C:\\Users\\vedan\\AppData\\Local\\Temp\\ipykernel_19752\\501339146.py:1: FutureWarning: Series.__getitem__ treating keys as positions is deprecated. In a future version, integer keys will always be treated as labels (consistent with DataFrame behavior). To access a value by position, use `ser.iloc[pos]`\n",
      "  print (s[1])\n"
     ]
    }
   ],
   "source": [
    "print (s[1])"
   ]
  },
  {
   "cell_type": "code",
   "execution_count": 25,
   "id": "e9c41d68-4daf-4368-80a7-8c766470b72e",
   "metadata": {},
   "outputs": [
    {
     "name": "stdout",
     "output_type": "stream",
     "text": [
      "200\n"
     ]
    }
   ],
   "source": [
    "print (s[\"b\"])"
   ]
  },
  {
   "cell_type": "code",
   "execution_count": 27,
   "id": "0b4066af-c67c-44fa-a25a-37083391ee4b",
   "metadata": {},
   "outputs": [
    {
     "data": {
      "text/plain": [
       "array([100, 200, 300])"
      ]
     },
     "execution_count": 27,
     "metadata": {},
     "output_type": "execute_result"
    }
   ],
   "source": [
    "s.values         # Array of values\n"
   ]
  },
  {
   "cell_type": "code",
   "execution_count": 28,
   "id": "d002b4e1-c169-4917-a61a-fdb2ad2f92cc",
   "metadata": {},
   "outputs": [
    {
     "data": {
      "text/plain": [
       "Index(['a', 'b', 'c'], dtype='object')"
      ]
     },
     "execution_count": 28,
     "metadata": {},
     "output_type": "execute_result"
    }
   ],
   "source": [
    "s.index          # Index of series\n"
   ]
  },
  {
   "cell_type": "code",
   "execution_count": 29,
   "id": "afc718b2-af2d-4e0a-97d9-4676ac026888",
   "metadata": {},
   "outputs": [
    {
     "data": {
      "text/plain": [
       "dtype('int64')"
      ]
     },
     "execution_count": 29,
     "metadata": {},
     "output_type": "execute_result"
    }
   ],
   "source": [
    "s.dtype          # Data type\n"
   ]
  },
  {
   "cell_type": "code",
   "execution_count": 32,
   "id": "c8a551f2-e468-43c9-9f34-4c9ce61fd385",
   "metadata": {},
   "outputs": [
    {
     "data": {
      "text/plain": [
       "a    100\n",
       "b    200\n",
       "dtype: int64"
      ]
     },
     "execution_count": 32,
     "metadata": {},
     "output_type": "execute_result"
    }
   ],
   "source": [
    "s.head(2)        # First 2 elements\n"
   ]
  },
  {
   "cell_type": "code",
   "execution_count": 33,
   "id": "ff098194-ae63-463b-9f4e-1e0b5672a7f3",
   "metadata": {},
   "outputs": [
    {
     "data": {
      "text/plain": [
       "b    200\n",
       "c    300\n",
       "dtype: int64"
      ]
     },
     "execution_count": 33,
     "metadata": {},
     "output_type": "execute_result"
    }
   ],
   "source": [
    "s.tail(2)        # Last 2 elements"
   ]
  },
  {
   "cell_type": "code",
   "execution_count": 34,
   "id": "e3887721-0a7d-4079-8780-bff7a0391377",
   "metadata": {},
   "outputs": [
    {
     "name": "stdout",
     "output_type": "stream",
     "text": [
      "Marks in Science: 90\n"
     ]
    }
   ],
   "source": [
    "marks = pd.Series([85, 90, 95], index=['Math', 'Science', 'English'])\n",
    "print(\"Marks in Science:\", marks['Science'])\n"
   ]
  },
  {
   "cell_type": "code",
   "execution_count": 37,
   "id": "6d2d461d-d190-41be-a69b-9a280935e496",
   "metadata": {},
   "outputs": [],
   "source": [
    "marks = pd.Series([100, 89,90] , index = [\"science\", \"maths\", \"sst\"])"
   ]
  },
  {
   "cell_type": "code",
   "execution_count": 38,
   "id": "a94d61b6-fb64-473e-8e15-79ef74f4e27a",
   "metadata": {},
   "outputs": [
    {
     "name": "stdout",
     "output_type": "stream",
     "text": [
      "Marks in Science :  100\n"
     ]
    }
   ],
   "source": [
    "print (\"Marks in Science : \", marks[\"science\"])"
   ]
  },
  {
   "cell_type": "markdown",
   "id": "64b0616e-22d9-49fd-9bea-95b1caceea64",
   "metadata": {},
   "source": [
    "Try these:\n",
    "\n",
    "Create a Series of 5 fruits with prices.\n",
    "\n",
    "Use custom labels like 'apple', 'banana', etc.\n",
    "\n",
    "Access the price of 'banana'.\n",
    "\n",
    "Print the Series' index and values."
   ]
  },
  {
   "cell_type": "code",
   "execution_count": 42,
   "id": "f5fa4eb8-dab0-41b3-bbda-5f3b6a6d7f05",
   "metadata": {},
   "outputs": [
    {
     "data": {
      "text/plain": [
       "Apple       56\n",
       "Banana      78\n",
       "Grapes      89\n",
       "Pears       90\n",
       "Seetafal    56\n",
       "dtype: int64"
      ]
     },
     "execution_count": 42,
     "metadata": {},
     "output_type": "execute_result"
    }
   ],
   "source": [
    "prices = pd.Series([56, 78, 89, 90, 56], index = [\"Apple\", \"Banana\", \"Grapes\", \"Pears\", \"Seetafal\"])\n",
    "prices"
   ]
  },
  {
   "cell_type": "code",
   "execution_count": 43,
   "id": "db81bc11-01f5-4051-b3c4-b6dd9ae56b7f",
   "metadata": {},
   "outputs": [
    {
     "name": "stdout",
     "output_type": "stream",
     "text": [
      "The price of Banana :  78\n"
     ]
    }
   ],
   "source": [
    "print (\"The price of Banana : \", prices[\"Banana\"])"
   ]
  },
  {
   "cell_type": "code",
   "execution_count": 44,
   "id": "7e7352f6-eb75-4664-b5f1-64b946b4781a",
   "metadata": {},
   "outputs": [
    {
     "data": {
      "text/plain": [
       "Apple     56\n",
       "Banana    78\n",
       "dtype: int64"
      ]
     },
     "execution_count": 44,
     "metadata": {},
     "output_type": "execute_result"
    }
   ],
   "source": [
    "prices.head(2)"
   ]
  },
  {
   "cell_type": "code",
   "execution_count": 45,
   "id": "9f44ee18-ae87-4213-9e04-48d6db66b577",
   "metadata": {},
   "outputs": [
    {
     "data": {
      "text/plain": [
       "Grapes      89\n",
       "Pears       90\n",
       "Seetafal    56\n",
       "dtype: int64"
      ]
     },
     "execution_count": 45,
     "metadata": {},
     "output_type": "execute_result"
    }
   ],
   "source": [
    "prices.tail(3)"
   ]
  },
  {
   "cell_type": "code",
   "execution_count": 46,
   "id": "f4da0445-4991-44be-8ae9-4cc6384674f9",
   "metadata": {},
   "outputs": [
    {
     "data": {
      "text/plain": [
       "Index(['Apple', 'Banana', 'Grapes', 'Pears', 'Seetafal'], dtype='object')"
      ]
     },
     "execution_count": 46,
     "metadata": {},
     "output_type": "execute_result"
    }
   ],
   "source": [
    "prices.index"
   ]
  },
  {
   "cell_type": "code",
   "execution_count": 47,
   "id": "f868fdc4-6cb0-45bb-b194-62982f934f21",
   "metadata": {},
   "outputs": [
    {
     "data": {
      "text/plain": [
       "array([56, 78, 89, 90, 56])"
      ]
     },
     "execution_count": 47,
     "metadata": {},
     "output_type": "execute_result"
    }
   ],
   "source": [
    "prices.values"
   ]
  },
  {
   "cell_type": "code",
   "execution_count": null,
   "id": "8b2969e3-bf14-4bd0-acbf-5b87e31ab835",
   "metadata": {},
   "outputs": [],
   "source": []
  }
 ],
 "metadata": {
  "kernelspec": {
   "display_name": "Python 3 (ipykernel)",
   "language": "python",
   "name": "python3"
  },
  "language_info": {
   "codemirror_mode": {
    "name": "ipython",
    "version": 3
   },
   "file_extension": ".py",
   "mimetype": "text/x-python",
   "name": "python",
   "nbconvert_exporter": "python",
   "pygments_lexer": "ipython3",
   "version": "3.13.0"
  }
 },
 "nbformat": 4,
 "nbformat_minor": 5
}
