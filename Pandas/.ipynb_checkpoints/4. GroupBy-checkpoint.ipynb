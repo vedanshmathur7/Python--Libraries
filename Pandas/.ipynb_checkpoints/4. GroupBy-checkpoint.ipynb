{
 "cells": [
  {
   "cell_type": "code",
   "execution_count": 1,
   "id": "f29c4e3e-2ba8-4919-adaf-83bdd73ce250",
   "metadata": {
    "ExecuteTime": {
     "end_time": "2025-04-24T06:16:01.458603300Z",
     "start_time": "2025-04-24T06:15:46.136476Z"
    }
   },
   "outputs": [
    {
     "name": "stdout",
     "output_type": "stream",
     "text": [
      "Department\n",
      "HR       41000.0\n",
      "IT       53500.0\n",
      "Sales    55000.0\n",
      "Name: Salary, dtype: float64\n"
     ]
    }
   ],
   "source": [
    "import pandas as pd\n",
    "\n",
    "data = {\n",
    "    'Department': ['Sales', 'Sales', 'HR', 'HR', 'IT', 'IT'],\n",
    "    'Employee': ['Alice', 'Bob', 'Charlie', 'David', 'Eva', 'Frank'],\n",
    "    'Salary': [50000, 60000, 40000, 42000, 55000, 52000]\n",
    "}\n",
    "\n",
    "df = pd.DataFrame(data)\n",
    "\n",
    "# Only use numeric column 'Salary' when applying mean\n",
    "average_salary = df.groupby('Department')['Salary'].mean()\n",
    "print(average_salary)\n"
   ]
  },
  {
   "cell_type": "code",
   "execution_count": 2,
   "id": "6b1a3da5-c90b-456c-8208-65ace7446d47",
   "metadata": {},
   "outputs": [],
   "source": [
    "grouped = df.groupby(\"Department\")[\"Salary\"].mean()"
   ]
  },
  {
   "cell_type": "code",
   "execution_count": 3,
   "id": "a976264e-dec0-485e-ac03-c5524b82cd66",
   "metadata": {},
   "outputs": [
    {
     "data": {
      "text/plain": [
       "Department\n",
       "HR       41000.0\n",
       "IT       53500.0\n",
       "Sales    55000.0\n",
       "Name: Salary, dtype: float64"
      ]
     },
     "execution_count": 3,
     "metadata": {},
     "output_type": "execute_result"
    }
   ],
   "source": [
    "grouped"
   ]
  },
  {
   "cell_type": "code",
   "execution_count": 4,
   "id": "3ca0393d-ed9c-49e3-a94c-d7b1e1748512",
   "metadata": {},
   "outputs": [
    {
     "data": {
      "text/plain": [
       "Department\n",
       "HR       2\n",
       "IT       2\n",
       "Sales    2\n",
       "Name: Employee, dtype: int64"
      ]
     },
     "execution_count": 4,
     "metadata": {},
     "output_type": "execute_result"
    }
   ],
   "source": [
    "df.groupby('Department')['Employee'].count()"
   ]
  },
  {
   "cell_type": "markdown",
   "id": "e0f3d2da-728a-4259-8bae-6e72f5641d46",
   "metadata": {},
   "source": [
    "## sum()\n",
    "\n",
    "## mean()\n",
    "\n",
    "## min(), max()\n",
    "\n",
    "## count()\n",
    "\n",
    "## agg() for multiple functions"
   ]
  },
  {
   "cell_type": "code",
   "execution_count": 7,
   "id": "95569bbe-7f61-4fa0-94c6-b4b286544b6c",
   "metadata": {},
   "outputs": [
    {
     "data": {
      "text/plain": [
       "mean    49833.333333\n",
       "max     60000.000000\n",
       "min     40000.000000\n",
       "Name: Salary, dtype: float64"
      ]
     },
     "execution_count": 7,
     "metadata": {},
     "output_type": "execute_result"
    }
   ],
   "source": [
    "df['Salary'].agg(['mean', 'max', 'min'])\n"
   ]
  },
  {
   "cell_type": "markdown",
   "id": "3b0ff7a9-133e-4529-b35c-e167938ba5c8",
   "metadata": {},
   "source": [
    "Try this:\n",
    "\n",
    "Create a DataFrame with columns: Team, Player, Goals\n",
    "\n",
    "Add data for at least 6 players from 3 different teams\n",
    "\n",
    "Group by Team and:\n",
    "\n",
    "Find total goals per team\n",
    "\n",
    "Find average goals per team\n",
    "\n",
    "Find max goals scored by a player in each team"
   ]
  },
  {
   "cell_type": "code",
   "execution_count": 18,
   "id": "f0e46396-04d1-49e7-866d-c0fc88b61702",
   "metadata": {},
   "outputs": [],
   "source": [
    "Football = {\n",
    "    \"Team\" : [\"RR\", \"RCB\",\"RCB\", \"CSK\", \"RR\", \"CSK\"],\n",
    "    \"Player\" : [\"MSD\", \"Virat\", \"Vedansh\", \"Rajesh\", \"Ashmit\", \"Sukuna\"],\n",
    "    \"Goals\" : [8, 7, 6, 9, 7, 8]\n",
    "}"
   ]
  },
  {
   "cell_type": "code",
   "execution_count": 19,
   "id": "ef14e21d-84b5-45de-a78b-e519273ce92f",
   "metadata": {},
   "outputs": [],
   "source": [
    "df = pd.DataFrame(Football)"
   ]
  },
  {
   "cell_type": "code",
   "execution_count": 20,
   "id": "a2b6ca9e-0d3d-4edb-ab18-d6abf4c8170e",
   "metadata": {},
   "outputs": [
    {
     "data": {
      "text/plain": [
       "Team\n",
       "CSK    17\n",
       "RCB    13\n",
       "RR     15\n",
       "Name: Goals, dtype: int64"
      ]
     },
     "execution_count": 20,
     "metadata": {},
     "output_type": "execute_result"
    }
   ],
   "source": [
    "df.groupby(\"Team\")[\"Goals\"].sum()"
   ]
  },
  {
   "cell_type": "code",
   "execution_count": 21,
   "id": "be420808-279e-485a-95ac-6dd8a5892882",
   "metadata": {},
   "outputs": [
    {
     "data": {
      "text/plain": [
       "Team\n",
       "CSK    8.5\n",
       "RCB    6.5\n",
       "RR     7.5\n",
       "Name: Goals, dtype: float64"
      ]
     },
     "execution_count": 21,
     "metadata": {},
     "output_type": "execute_result"
    }
   ],
   "source": [
    "df.groupby(\"Team\")[\"Goals\"].mean()"
   ]
  },
  {
   "cell_type": "code",
   "execution_count": 24,
   "id": "bceb6629-5f4d-4a1d-a7c0-4dc5c3eefd00",
   "metadata": {},
   "outputs": [
    {
     "data": {
      "text/plain": [
       "Team\n",
       "CSK    9\n",
       "RCB    7\n",
       "RR     8\n",
       "Name: Goals, dtype: int64"
      ]
     },
     "execution_count": 24,
     "metadata": {},
     "output_type": "execute_result"
    }
   ],
   "source": [
    "df.groupby(\"Team\")[\"Goals\"].max()"
   ]
  },
  {
   "cell_type": "code",
   "execution_count": 25,
   "id": "57db7bb4-facf-47ad-8985-cf3358238ca5",
   "metadata": {},
   "outputs": [
    {
     "data": {
      "text/html": [
       "<div>\n",
       "<style scoped>\n",
       "    .dataframe tbody tr th:only-of-type {\n",
       "        vertical-align: middle;\n",
       "    }\n",
       "\n",
       "    .dataframe tbody tr th {\n",
       "        vertical-align: top;\n",
       "    }\n",
       "\n",
       "    .dataframe thead th {\n",
       "        text-align: right;\n",
       "    }\n",
       "</style>\n",
       "<table border=\"1\" class=\"dataframe\">\n",
       "  <thead>\n",
       "    <tr style=\"text-align: right;\">\n",
       "      <th></th>\n",
       "      <th>sum</th>\n",
       "      <th>mean</th>\n",
       "      <th>max</th>\n",
       "      <th>min</th>\n",
       "      <th>count</th>\n",
       "    </tr>\n",
       "    <tr>\n",
       "      <th>Team</th>\n",
       "      <th></th>\n",
       "      <th></th>\n",
       "      <th></th>\n",
       "      <th></th>\n",
       "      <th></th>\n",
       "    </tr>\n",
       "  </thead>\n",
       "  <tbody>\n",
       "    <tr>\n",
       "      <th>CSK</th>\n",
       "      <td>17</td>\n",
       "      <td>8.5</td>\n",
       "      <td>9</td>\n",
       "      <td>8</td>\n",
       "      <td>2</td>\n",
       "    </tr>\n",
       "    <tr>\n",
       "      <th>RCB</th>\n",
       "      <td>13</td>\n",
       "      <td>6.5</td>\n",
       "      <td>7</td>\n",
       "      <td>6</td>\n",
       "      <td>2</td>\n",
       "    </tr>\n",
       "    <tr>\n",
       "      <th>RR</th>\n",
       "      <td>15</td>\n",
       "      <td>7.5</td>\n",
       "      <td>8</td>\n",
       "      <td>7</td>\n",
       "      <td>2</td>\n",
       "    </tr>\n",
       "  </tbody>\n",
       "</table>\n",
       "</div>"
      ],
      "text/plain": [
       "      sum  mean  max  min  count\n",
       "Team                            \n",
       "CSK    17   8.5    9    8      2\n",
       "RCB    13   6.5    7    6      2\n",
       "RR     15   7.5    8    7      2"
      ]
     },
     "execution_count": 25,
     "metadata": {},
     "output_type": "execute_result"
    }
   ],
   "source": [
    "df.groupby('Team')['Goals'].agg(['sum', 'mean', 'max', 'min', 'count'])\n"
   ]
  },
  {
   "cell_type": "code",
   "execution_count": null,
   "id": "e689e307-7164-4754-9514-237f81224f98",
   "metadata": {},
   "outputs": [],
   "source": []
  }
 ],
 "metadata": {
  "kernelspec": {
   "display_name": "Python 3 (ipykernel)",
   "language": "python",
   "name": "python3"
  },
  "language_info": {
   "codemirror_mode": {
    "name": "ipython",
    "version": 3
   },
   "file_extension": ".py",
   "mimetype": "text/x-python",
   "name": "python",
   "nbconvert_exporter": "python",
   "pygments_lexer": "ipython3",
   "version": "3.13.0"
  }
 },
 "nbformat": 4,
 "nbformat_minor": 5
}
